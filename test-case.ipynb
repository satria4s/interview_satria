{
 "cells": [
  {
   "cell_type": "markdown",
   "id": "64373d57",
   "metadata": {},
   "source": [
    "# Notebook for user technical test. Satria Audria Sakti"
   ]
  },
  {
   "cell_type": "code",
   "execution_count": 1,
   "id": "114ac7ba",
   "metadata": {},
   "outputs": [],
   "source": [
    "# First, I'll load library/module needed for the assesment\n",
    "\n",
    "# I'll use pandas and numpy for data manipulation and loader (as dataframe)\n",
    "import numpy as np\n",
    "import pandas as pd\n",
    "# I'll use pyplot and seaborn for visualization\n",
    "import matplotlib.pyplot as plt\n",
    "import seaborn as sns\n"
   ]
  },
  {
   "cell_type": "markdown",
   "id": "b97af3e1",
   "metadata": {},
   "source": [
    "Now I'll load the csv data"
   ]
  },
  {
   "cell_type": "code",
   "execution_count": 2,
   "id": "7be24909",
   "metadata": {},
   "outputs": [
    {
     "data": {
      "text/html": [
       "<div>\n",
       "<style scoped>\n",
       "    .dataframe tbody tr th:only-of-type {\n",
       "        vertical-align: middle;\n",
       "    }\n",
       "\n",
       "    .dataframe tbody tr th {\n",
       "        vertical-align: top;\n",
       "    }\n",
       "\n",
       "    .dataframe thead th {\n",
       "        text-align: right;\n",
       "    }\n",
       "</style>\n",
       "<table border=\"1\" class=\"dataframe\">\n",
       "  <thead>\n",
       "    <tr style=\"text-align: right;\">\n",
       "      <th></th>\n",
       "      <th>customer_name</th>\n",
       "      <th>dealer_name</th>\n",
       "      <th>unit_description</th>\n",
       "      <th>due_date</th>\n",
       "      <th>status</th>\n",
       "      <th>installment</th>\n",
       "      <th>cost_price</th>\n",
       "    </tr>\n",
       "  </thead>\n",
       "  <tbody>\n",
       "    <tr>\n",
       "      <th>0</th>\n",
       "      <td>AMRUL QOIS</td>\n",
       "      <td>HYUNDAI MAMPANG</td>\n",
       "      <td>HYUNDAI, CRETA PRIME 1.5 SINGLE TONE IVT, 2022</td>\n",
       "      <td>10/27/2024</td>\n",
       "      <td>Operational</td>\n",
       "      <td>8,085,000</td>\n",
       "      <td>404,000,000</td>\n",
       "    </tr>\n",
       "    <tr>\n",
       "      <th>1</th>\n",
       "      <td>AZIZATUL MUNIFAH</td>\n",
       "      <td>HONDA MANDALASENA</td>\n",
       "      <td>HONDA, ALL NEW BR-V E CVT, 2023</td>\n",
       "      <td>11/10/2024</td>\n",
       "      <td>Operational</td>\n",
       "      <td>4,858,000</td>\n",
       "      <td>330,450,000</td>\n",
       "    </tr>\n",
       "    <tr>\n",
       "      <th>2</th>\n",
       "      <td>BHARATH SRINIVASAN SETHURAMAN</td>\n",
       "      <td>HONDA MANDIRI BOGOR</td>\n",
       "      <td>HONDA, ALL NEW CRV 1.5 TURBO PRESTIGE, 2022</td>\n",
       "      <td>11/15/2024</td>\n",
       "      <td>Operational</td>\n",
       "      <td>9,266,000</td>\n",
       "      <td>653,400,000</td>\n",
       "    </tr>\n",
       "    <tr>\n",
       "      <th>3</th>\n",
       "      <td>MARSUDIN</td>\n",
       "      <td>HONDA CIKARANG</td>\n",
       "      <td>HONDA, ALL NEW CITY HATCHBACK RS CVT, 2021</td>\n",
       "      <td>10/27/2024</td>\n",
       "      <td>Operational</td>\n",
       "      <td>5,881,000</td>\n",
       "      <td>302,000,000</td>\n",
       "    </tr>\n",
       "    <tr>\n",
       "      <th>4</th>\n",
       "      <td>NI NYOMAN PUJI ASTUTI</td>\n",
       "      <td>HONDA BINTANG TABANAN</td>\n",
       "      <td>HONDA, ALL NEW BRIO E CVT, 2024</td>\n",
       "      <td>11/25/2024</td>\n",
       "      <td>Operational</td>\n",
       "      <td>6,946,000</td>\n",
       "      <td>228,200,000</td>\n",
       "    </tr>\n",
       "    <tr>\n",
       "      <th>...</th>\n",
       "      <td>...</td>\n",
       "      <td>...</td>\n",
       "      <td>...</td>\n",
       "      <td>...</td>\n",
       "      <td>...</td>\n",
       "      <td>...</td>\n",
       "      <td>...</td>\n",
       "    </tr>\n",
       "    <tr>\n",
       "      <th>30928</th>\n",
       "      <td>ZURAIDA,S.PD</td>\n",
       "      <td>HONDA AUTOBEST</td>\n",
       "      <td>HONDA, HONDA JAZZ E RS MT 2012(ASURANSI CAPITA...</td>\n",
       "      <td>NaN</td>\n",
       "      <td>Incomplete</td>\n",
       "      <td>5,325,000</td>\n",
       "      <td>215,000,000</td>\n",
       "    </tr>\n",
       "    <tr>\n",
       "      <th>30929</th>\n",
       "      <td>ZURDALENIS</td>\n",
       "      <td>HONDA WILTOP JAMBI</td>\n",
       "      <td>HONDA, ALL NEW BRV PRESTIGE, 2022</td>\n",
       "      <td>9/27/2024</td>\n",
       "      <td>Operational</td>\n",
       "      <td>6,864,000</td>\n",
       "      <td>360,500,000</td>\n",
       "    </tr>\n",
       "    <tr>\n",
       "      <th>30930</th>\n",
       "      <td>ZURDEWAN</td>\n",
       "      <td>HONDA ARISTA PEKANBARU</td>\n",
       "      <td>HONDA, ALL NEW BRIO E MT, 2020</td>\n",
       "      <td>8/27/2024</td>\n",
       "      <td>Operational</td>\n",
       "      <td>3,227,000</td>\n",
       "      <td>186,500,000</td>\n",
       "    </tr>\n",
       "    <tr>\n",
       "      <th>30931</th>\n",
       "      <td>ZURISMIATI</td>\n",
       "      <td>HONDA DAAN MOGOT</td>\n",
       "      <td>HONDA, ALL NEW BRIO E CVT, 2022</td>\n",
       "      <td>11/15/2024</td>\n",
       "      <td>Operational</td>\n",
       "      <td>3,703,000</td>\n",
       "      <td>189,700,000</td>\n",
       "    </tr>\n",
       "    <tr>\n",
       "      <th>30932</th>\n",
       "      <td>ZWESTY DOLLY CORNELES</td>\n",
       "      <td>HONDA MARTADINATA 2 MANADO</td>\n",
       "      <td>HONDA, BRIO RS CVT , 2023</td>\n",
       "      <td>10/27/2024</td>\n",
       "      <td>Operational</td>\n",
       "      <td>4,483,000</td>\n",
       "      <td>264,900,000</td>\n",
       "    </tr>\n",
       "  </tbody>\n",
       "</table>\n",
       "<p>30933 rows × 7 columns</p>\n",
       "</div>"
      ],
      "text/plain": [
       "                        customer_name                 dealer_name  \\\n",
       "0                          AMRUL QOIS             HYUNDAI MAMPANG   \n",
       "1                    AZIZATUL MUNIFAH           HONDA MANDALASENA   \n",
       "2       BHARATH SRINIVASAN SETHURAMAN         HONDA MANDIRI BOGOR   \n",
       "3                            MARSUDIN              HONDA CIKARANG   \n",
       "4               NI NYOMAN PUJI ASTUTI       HONDA BINTANG TABANAN   \n",
       "...                               ...                         ...   \n",
       "30928                    ZURAIDA,S.PD              HONDA AUTOBEST   \n",
       "30929                      ZURDALENIS          HONDA WILTOP JAMBI   \n",
       "30930                       ZURDEWAN       HONDA ARISTA PEKANBARU   \n",
       "30931                      ZURISMIATI            HONDA DAAN MOGOT   \n",
       "30932           ZWESTY DOLLY CORNELES  HONDA MARTADINATA 2 MANADO   \n",
       "\n",
       "                                        unit_description    due_date  \\\n",
       "0         HYUNDAI, CRETA PRIME 1.5 SINGLE TONE IVT, 2022  10/27/2024   \n",
       "1                        HONDA, ALL NEW BR-V E CVT, 2023  11/10/2024   \n",
       "2            HONDA, ALL NEW CRV 1.5 TURBO PRESTIGE, 2022  11/15/2024   \n",
       "3             HONDA, ALL NEW CITY HATCHBACK RS CVT, 2021  10/27/2024   \n",
       "4                        HONDA, ALL NEW BRIO E CVT, 2024  11/25/2024   \n",
       "...                                                  ...         ...   \n",
       "30928  HONDA, HONDA JAZZ E RS MT 2012(ASURANSI CAPITA...         NaN   \n",
       "30929                  HONDA, ALL NEW BRV PRESTIGE, 2022   9/27/2024   \n",
       "30930                     HONDA, ALL NEW BRIO E MT, 2020   8/27/2024   \n",
       "30931                    HONDA, ALL NEW BRIO E CVT, 2022  11/15/2024   \n",
       "30932                          HONDA, BRIO RS CVT , 2023  10/27/2024   \n",
       "\n",
       "            status  installment     cost_price   \n",
       "0      Operational    8,085,000    404,000,000   \n",
       "1      Operational    4,858,000    330,450,000   \n",
       "2      Operational    9,266,000    653,400,000   \n",
       "3      Operational    5,881,000    302,000,000   \n",
       "4      Operational    6,946,000    228,200,000   \n",
       "...            ...           ...            ...  \n",
       "30928   Incomplete    5,325,000    215,000,000   \n",
       "30929  Operational    6,864,000    360,500,000   \n",
       "30930  Operational    3,227,000    186,500,000   \n",
       "30931  Operational    3,703,000    189,700,000   \n",
       "30932  Operational    4,483,000    264,900,000   \n",
       "\n",
       "[30933 rows x 7 columns]"
      ]
     },
     "execution_count": 2,
     "metadata": {},
     "output_type": "execute_result"
    }
   ],
   "source": [
    "df = pd.read_csv('test-case.csv')\n",
    "df"
   ]
  },
  {
   "cell_type": "markdown",
   "id": "d9d0255c",
   "metadata": {},
   "source": [
    "Then I'll start to address its missingness "
   ]
  },
  {
   "cell_type": "code",
   "execution_count": 3,
   "id": "8639f289",
   "metadata": {},
   "outputs": [
    {
     "data": {
      "text/plain": [
       "customer_name          0\n",
       "dealer_name            0\n",
       "unit_description       0\n",
       "due_date            1736\n",
       "status                 0\n",
       " installment           0\n",
       " cost_price            0\n",
       "dtype: int64"
      ]
     },
     "execution_count": 3,
     "metadata": {},
     "output_type": "execute_result"
    }
   ],
   "source": [
    "total_missingness = df.isna().sum()\n",
    "# I'd prefer to call it directly rather than using print\n",
    "total_missingness   \n",
    "\n",
    "# Use this to only select column that has null\n",
    "# total_missingness[total_missingness > 1]"
   ]
  },
  {
   "cell_type": "markdown",
   "id": "dff819f8",
   "metadata": {},
   "source": [
    "I'll check out every row that has its data missing before I proceed"
   ]
  },
  {
   "cell_type": "code",
   "execution_count": 4,
   "id": "e899032d",
   "metadata": {},
   "outputs": [
    {
     "data": {
      "text/html": [
       "<div>\n",
       "<style scoped>\n",
       "    .dataframe tbody tr th:only-of-type {\n",
       "        vertical-align: middle;\n",
       "    }\n",
       "\n",
       "    .dataframe tbody tr th {\n",
       "        vertical-align: top;\n",
       "    }\n",
       "\n",
       "    .dataframe thead th {\n",
       "        text-align: right;\n",
       "    }\n",
       "</style>\n",
       "<table border=\"1\" class=\"dataframe\">\n",
       "  <thead>\n",
       "    <tr style=\"text-align: right;\">\n",
       "      <th></th>\n",
       "      <th>customer_name</th>\n",
       "      <th>dealer_name</th>\n",
       "      <th>unit_description</th>\n",
       "      <th>due_date</th>\n",
       "      <th>status</th>\n",
       "      <th>installment</th>\n",
       "      <th>cost_price</th>\n",
       "    </tr>\n",
       "  </thead>\n",
       "  <tbody>\n",
       "    <tr>\n",
       "      <th>17</th>\n",
       "      <td>A LATU TRIPURANTOKO</td>\n",
       "      <td>HONDA MAJU MOTOR</td>\n",
       "      <td>HONDA, BRIO SATYA E CVT, 2017</td>\n",
       "      <td>NaN</td>\n",
       "      <td>Incomplete</td>\n",
       "      <td>3,445,000</td>\n",
       "      <td>151,500,000</td>\n",
       "    </tr>\n",
       "    <tr>\n",
       "      <th>67</th>\n",
       "      <td>A.ROCHAYAH</td>\n",
       "      <td>MERCINDO MAMPANG</td>\n",
       "      <td>MERCEDEZ BENZ, MERCEDES S 350 L 2011, 2011</td>\n",
       "      <td>NaN</td>\n",
       "      <td>Write-off</td>\n",
       "      <td>56,749,000</td>\n",
       "      <td>2,192,000,000</td>\n",
       "    </tr>\n",
       "    <tr>\n",
       "      <th>70</th>\n",
       "      <td>A.WIRAWAN SIMATUPANG</td>\n",
       "      <td>HONDA PONDOK INDAH</td>\n",
       "      <td>HONDA, HONDA CRV 2.4 AT 2009, 2009</td>\n",
       "      <td>NaN</td>\n",
       "      <td>Incomplete</td>\n",
       "      <td>9,331,000</td>\n",
       "      <td>379,000,000</td>\n",
       "    </tr>\n",
       "    <tr>\n",
       "      <th>102</th>\n",
       "      <td>ABD MUNIB</td>\n",
       "      <td>HONDA MANDALASENA</td>\n",
       "      <td>HONDA, ALL NEW BRIO E MT, 2020</td>\n",
       "      <td>NaN</td>\n",
       "      <td>Incomplete</td>\n",
       "      <td>2,971,000</td>\n",
       "      <td>169,450,000</td>\n",
       "    </tr>\n",
       "    <tr>\n",
       "      <th>142</th>\n",
       "      <td>ABDUL BASID BAKI SP.OG</td>\n",
       "      <td>MERCEDES-BENZ SIMATUPANG</td>\n",
       "      <td>MERCEDEZ BENZ, MERCEDES BENZ C 280 AVG 2009, 2009</td>\n",
       "      <td>NaN</td>\n",
       "      <td>Incomplete</td>\n",
       "      <td>22,663,000</td>\n",
       "      <td>700,000,000</td>\n",
       "    </tr>\n",
       "    <tr>\n",
       "      <th>...</th>\n",
       "      <td>...</td>\n",
       "      <td>...</td>\n",
       "      <td>...</td>\n",
       "      <td>...</td>\n",
       "      <td>...</td>\n",
       "      <td>...</td>\n",
       "      <td>...</td>\n",
       "    </tr>\n",
       "    <tr>\n",
       "      <th>30905</th>\n",
       "      <td>ZULKARNAEN</td>\n",
       "      <td>HONDA PRIMA KRANJI</td>\n",
       "      <td>HONDA, HONDA CRV 2.0 AT 2010, 2010</td>\n",
       "      <td>NaN</td>\n",
       "      <td>Incomplete</td>\n",
       "      <td>7,989,000</td>\n",
       "      <td>357,000,000</td>\n",
       "    </tr>\n",
       "    <tr>\n",
       "      <th>30906</th>\n",
       "      <td>ZULKARNAEN SIREGAR</td>\n",
       "      <td>HONDA PONDOK PINANG</td>\n",
       "      <td>HONDA, HONDA JAZZ S AT 2012, 2012</td>\n",
       "      <td>NaN</td>\n",
       "      <td>Incomplete</td>\n",
       "      <td>4,798,000</td>\n",
       "      <td>201,000,000</td>\n",
       "    </tr>\n",
       "    <tr>\n",
       "      <th>30919</th>\n",
       "      <td>ZULKIPLI LAKSANA</td>\n",
       "      <td>HONDA PLUIT</td>\n",
       "      <td>HONDA, HONDA JAZZ E AT 2011, 2011</td>\n",
       "      <td>NaN</td>\n",
       "      <td>Incomplete</td>\n",
       "      <td>5,317,000</td>\n",
       "      <td>216,000,000</td>\n",
       "    </tr>\n",
       "    <tr>\n",
       "      <th>30922</th>\n",
       "      <td>ZULPADLI</td>\n",
       "      <td>HONDA WILTOP JAMBI</td>\n",
       "      <td>HONDA, HRV 1.5 E CVT, 2019</td>\n",
       "      <td>NaN</td>\n",
       "      <td>Incomplete</td>\n",
       "      <td>6,604,000</td>\n",
       "      <td>300,500,000</td>\n",
       "    </tr>\n",
       "    <tr>\n",
       "      <th>30928</th>\n",
       "      <td>ZURAIDA,S.PD</td>\n",
       "      <td>HONDA AUTOBEST</td>\n",
       "      <td>HONDA, HONDA JAZZ E RS MT 2012(ASURANSI CAPITA...</td>\n",
       "      <td>NaN</td>\n",
       "      <td>Incomplete</td>\n",
       "      <td>5,325,000</td>\n",
       "      <td>215,000,000</td>\n",
       "    </tr>\n",
       "  </tbody>\n",
       "</table>\n",
       "<p>1736 rows × 7 columns</p>\n",
       "</div>"
      ],
      "text/plain": [
       "                customer_name               dealer_name  \\\n",
       "17       A LATU TRIPURANTOKO           HONDA MAJU MOTOR   \n",
       "67                 A.ROCHAYAH          MERCINDO MAMPANG   \n",
       "70       A.WIRAWAN SIMATUPANG        HONDA PONDOK INDAH   \n",
       "102                 ABD MUNIB         HONDA MANDALASENA   \n",
       "142    ABDUL BASID BAKI SP.OG  MERCEDES-BENZ SIMATUPANG   \n",
       "...                       ...                       ...   \n",
       "30905              ZULKARNAEN        HONDA PRIMA KRANJI   \n",
       "30906      ZULKARNAEN SIREGAR       HONDA PONDOK PINANG   \n",
       "30919        ZULKIPLI LAKSANA               HONDA PLUIT   \n",
       "30922                ZULPADLI        HONDA WILTOP JAMBI   \n",
       "30928            ZURAIDA,S.PD            HONDA AUTOBEST   \n",
       "\n",
       "                                        unit_description due_date      status  \\\n",
       "17                         HONDA, BRIO SATYA E CVT, 2017      NaN  Incomplete   \n",
       "67            MERCEDEZ BENZ, MERCEDES S 350 L 2011, 2011      NaN   Write-off   \n",
       "70                    HONDA, HONDA CRV 2.4 AT 2009, 2009      NaN  Incomplete   \n",
       "102                       HONDA, ALL NEW BRIO E MT, 2020      NaN  Incomplete   \n",
       "142    MERCEDEZ BENZ, MERCEDES BENZ C 280 AVG 2009, 2009      NaN  Incomplete   \n",
       "...                                                  ...      ...         ...   \n",
       "30905                 HONDA, HONDA CRV 2.0 AT 2010, 2010      NaN  Incomplete   \n",
       "30906                  HONDA, HONDA JAZZ S AT 2012, 2012      NaN  Incomplete   \n",
       "30919                  HONDA, HONDA JAZZ E AT 2011, 2011      NaN  Incomplete   \n",
       "30922                         HONDA, HRV 1.5 E CVT, 2019      NaN  Incomplete   \n",
       "30928  HONDA, HONDA JAZZ E RS MT 2012(ASURANSI CAPITA...      NaN  Incomplete   \n",
       "\n",
       "       installment       cost_price   \n",
       "17       3,445,000      151,500,000   \n",
       "67      56,749,000    2,192,000,000   \n",
       "70       9,331,000      379,000,000   \n",
       "102      2,971,000      169,450,000   \n",
       "142     22,663,000      700,000,000   \n",
       "...             ...              ...  \n",
       "30905    7,989,000      357,000,000   \n",
       "30906    4,798,000      201,000,000   \n",
       "30919    5,317,000      216,000,000   \n",
       "30922    6,604,000      300,500,000   \n",
       "30928    5,325,000      215,000,000   \n",
       "\n",
       "[1736 rows x 7 columns]"
      ]
     },
     "execution_count": 4,
     "metadata": {},
     "output_type": "execute_result"
    }
   ],
   "source": [
    "null_rows = df[df['due_date'].isnull()].copy() # Use copy to ignore the warning, as well as to make memory effienct\n",
    "null_rows"
   ]
  },
  {
   "cell_type": "markdown",
   "id": "d832f6f6",
   "metadata": {},
   "source": [
    "As we can see on the table above, it seems that every null `due_date` are correlated with the status, let's check it further."
   ]
  },
  {
   "cell_type": "code",
   "execution_count": 5,
   "id": "b1813f03",
   "metadata": {},
   "outputs": [
    {
     "name": "stdout",
     "output_type": "stream",
     "text": [
      "['Incomplete' 'Write-off' 'Expired with Due Amount']\n"
     ]
    },
    {
     "data": {
      "text/html": [
       "<div>\n",
       "<style scoped>\n",
       "    .dataframe tbody tr th:only-of-type {\n",
       "        vertical-align: middle;\n",
       "    }\n",
       "\n",
       "    .dataframe tbody tr th {\n",
       "        vertical-align: top;\n",
       "    }\n",
       "\n",
       "    .dataframe thead th {\n",
       "        text-align: right;\n",
       "    }\n",
       "</style>\n",
       "<table border=\"1\" class=\"dataframe\">\n",
       "  <thead>\n",
       "    <tr style=\"text-align: right;\">\n",
       "      <th></th>\n",
       "      <th>status</th>\n",
       "      <th>count</th>\n",
       "    </tr>\n",
       "  </thead>\n",
       "  <tbody>\n",
       "    <tr>\n",
       "      <th>0</th>\n",
       "      <td>Incomplete</td>\n",
       "      <td>1719</td>\n",
       "    </tr>\n",
       "    <tr>\n",
       "      <th>1</th>\n",
       "      <td>Expired with Due Amount</td>\n",
       "      <td>10</td>\n",
       "    </tr>\n",
       "    <tr>\n",
       "      <th>2</th>\n",
       "      <td>Write-off</td>\n",
       "      <td>7</td>\n",
       "    </tr>\n",
       "  </tbody>\n",
       "</table>\n",
       "</div>"
      ],
      "text/plain": [
       "                    status  count\n",
       "0               Incomplete   1719\n",
       "1  Expired with Due Amount     10\n",
       "2                Write-off      7"
      ]
     },
     "execution_count": 5,
     "metadata": {},
     "output_type": "execute_result"
    }
   ],
   "source": [
    "unq_status = null_rows['status'].unique()\n",
    "print(unq_status)\n",
    "unq_status_counts = null_rows['status'].value_counts(dropna=False).reset_index()\n",
    "unq_status_counts"
   ]
  },
  {
   "cell_type": "markdown",
   "id": "6fcc1d12",
   "metadata": {},
   "source": [
    "It returns 3 unique values with more than 98% of them came from Incomplete status, let's compare it with data that are clean (no null)"
   ]
  },
  {
   "cell_type": "code",
   "execution_count": 6,
   "id": "25f791b4",
   "metadata": {},
   "outputs": [
    {
     "data": {
      "text/html": [
       "<div>\n",
       "<style scoped>\n",
       "    .dataframe tbody tr th:only-of-type {\n",
       "        vertical-align: middle;\n",
       "    }\n",
       "\n",
       "    .dataframe tbody tr th {\n",
       "        vertical-align: top;\n",
       "    }\n",
       "\n",
       "    .dataframe thead th {\n",
       "        text-align: right;\n",
       "    }\n",
       "</style>\n",
       "<table border=\"1\" class=\"dataframe\">\n",
       "  <thead>\n",
       "    <tr style=\"text-align: right;\">\n",
       "      <th></th>\n",
       "      <th>customer_name</th>\n",
       "      <th>dealer_name</th>\n",
       "      <th>unit_description</th>\n",
       "      <th>due_date</th>\n",
       "      <th>status</th>\n",
       "      <th>installment</th>\n",
       "      <th>cost_price</th>\n",
       "    </tr>\n",
       "  </thead>\n",
       "  <tbody>\n",
       "    <tr>\n",
       "      <th>0</th>\n",
       "      <td>AMRUL QOIS</td>\n",
       "      <td>HYUNDAI MAMPANG</td>\n",
       "      <td>HYUNDAI, CRETA PRIME 1.5 SINGLE TONE IVT, 2022</td>\n",
       "      <td>10/27/2024</td>\n",
       "      <td>Operational</td>\n",
       "      <td>8,085,000</td>\n",
       "      <td>404,000,000</td>\n",
       "    </tr>\n",
       "    <tr>\n",
       "      <th>1</th>\n",
       "      <td>AZIZATUL MUNIFAH</td>\n",
       "      <td>HONDA MANDALASENA</td>\n",
       "      <td>HONDA, ALL NEW BR-V E CVT, 2023</td>\n",
       "      <td>11/10/2024</td>\n",
       "      <td>Operational</td>\n",
       "      <td>4,858,000</td>\n",
       "      <td>330,450,000</td>\n",
       "    </tr>\n",
       "    <tr>\n",
       "      <th>2</th>\n",
       "      <td>BHARATH SRINIVASAN SETHURAMAN</td>\n",
       "      <td>HONDA MANDIRI BOGOR</td>\n",
       "      <td>HONDA, ALL NEW CRV 1.5 TURBO PRESTIGE, 2022</td>\n",
       "      <td>11/15/2024</td>\n",
       "      <td>Operational</td>\n",
       "      <td>9,266,000</td>\n",
       "      <td>653,400,000</td>\n",
       "    </tr>\n",
       "    <tr>\n",
       "      <th>3</th>\n",
       "      <td>MARSUDIN</td>\n",
       "      <td>HONDA CIKARANG</td>\n",
       "      <td>HONDA, ALL NEW CITY HATCHBACK RS CVT, 2021</td>\n",
       "      <td>10/27/2024</td>\n",
       "      <td>Operational</td>\n",
       "      <td>5,881,000</td>\n",
       "      <td>302,000,000</td>\n",
       "    </tr>\n",
       "    <tr>\n",
       "      <th>4</th>\n",
       "      <td>NI NYOMAN PUJI ASTUTI</td>\n",
       "      <td>HONDA BINTANG TABANAN</td>\n",
       "      <td>HONDA, ALL NEW BRIO E CVT, 2024</td>\n",
       "      <td>11/25/2024</td>\n",
       "      <td>Operational</td>\n",
       "      <td>6,946,000</td>\n",
       "      <td>228,200,000</td>\n",
       "    </tr>\n",
       "    <tr>\n",
       "      <th>...</th>\n",
       "      <td>...</td>\n",
       "      <td>...</td>\n",
       "      <td>...</td>\n",
       "      <td>...</td>\n",
       "      <td>...</td>\n",
       "      <td>...</td>\n",
       "      <td>...</td>\n",
       "    </tr>\n",
       "    <tr>\n",
       "      <th>30927</th>\n",
       "      <td>ZUMROTUN</td>\n",
       "      <td>WULING ARISTA PLUIT</td>\n",
       "      <td>WULING, ALVEZ TYPE EX, 2023</td>\n",
       "      <td>9/27/2024</td>\n",
       "      <td>Operational</td>\n",
       "      <td>5,503,000</td>\n",
       "      <td>295,000,000</td>\n",
       "    </tr>\n",
       "    <tr>\n",
       "      <th>30929</th>\n",
       "      <td>ZURDALENIS</td>\n",
       "      <td>HONDA WILTOP JAMBI</td>\n",
       "      <td>HONDA, ALL NEW BRV PRESTIGE, 2022</td>\n",
       "      <td>9/27/2024</td>\n",
       "      <td>Operational</td>\n",
       "      <td>6,864,000</td>\n",
       "      <td>360,500,000</td>\n",
       "    </tr>\n",
       "    <tr>\n",
       "      <th>30930</th>\n",
       "      <td>ZURDEWAN</td>\n",
       "      <td>HONDA ARISTA PEKANBARU</td>\n",
       "      <td>HONDA, ALL NEW BRIO E MT, 2020</td>\n",
       "      <td>8/27/2024</td>\n",
       "      <td>Operational</td>\n",
       "      <td>3,227,000</td>\n",
       "      <td>186,500,000</td>\n",
       "    </tr>\n",
       "    <tr>\n",
       "      <th>30931</th>\n",
       "      <td>ZURISMIATI</td>\n",
       "      <td>HONDA DAAN MOGOT</td>\n",
       "      <td>HONDA, ALL NEW BRIO E CVT, 2022</td>\n",
       "      <td>11/15/2024</td>\n",
       "      <td>Operational</td>\n",
       "      <td>3,703,000</td>\n",
       "      <td>189,700,000</td>\n",
       "    </tr>\n",
       "    <tr>\n",
       "      <th>30932</th>\n",
       "      <td>ZWESTY DOLLY CORNELES</td>\n",
       "      <td>HONDA MARTADINATA 2 MANADO</td>\n",
       "      <td>HONDA, BRIO RS CVT , 2023</td>\n",
       "      <td>10/27/2024</td>\n",
       "      <td>Operational</td>\n",
       "      <td>4,483,000</td>\n",
       "      <td>264,900,000</td>\n",
       "    </tr>\n",
       "  </tbody>\n",
       "</table>\n",
       "<p>29197 rows × 7 columns</p>\n",
       "</div>"
      ],
      "text/plain": [
       "                        customer_name                 dealer_name  \\\n",
       "0                          AMRUL QOIS             HYUNDAI MAMPANG   \n",
       "1                    AZIZATUL MUNIFAH           HONDA MANDALASENA   \n",
       "2       BHARATH SRINIVASAN SETHURAMAN         HONDA MANDIRI BOGOR   \n",
       "3                            MARSUDIN              HONDA CIKARANG   \n",
       "4               NI NYOMAN PUJI ASTUTI       HONDA BINTANG TABANAN   \n",
       "...                               ...                         ...   \n",
       "30927                        ZUMROTUN         WULING ARISTA PLUIT   \n",
       "30929                      ZURDALENIS          HONDA WILTOP JAMBI   \n",
       "30930                       ZURDEWAN       HONDA ARISTA PEKANBARU   \n",
       "30931                      ZURISMIATI            HONDA DAAN MOGOT   \n",
       "30932           ZWESTY DOLLY CORNELES  HONDA MARTADINATA 2 MANADO   \n",
       "\n",
       "                                     unit_description    due_date  \\\n",
       "0      HYUNDAI, CRETA PRIME 1.5 SINGLE TONE IVT, 2022  10/27/2024   \n",
       "1                     HONDA, ALL NEW BR-V E CVT, 2023  11/10/2024   \n",
       "2         HONDA, ALL NEW CRV 1.5 TURBO PRESTIGE, 2022  11/15/2024   \n",
       "3          HONDA, ALL NEW CITY HATCHBACK RS CVT, 2021  10/27/2024   \n",
       "4                     HONDA, ALL NEW BRIO E CVT, 2024  11/25/2024   \n",
       "...                                               ...         ...   \n",
       "30927                     WULING, ALVEZ TYPE EX, 2023   9/27/2024   \n",
       "30929               HONDA, ALL NEW BRV PRESTIGE, 2022   9/27/2024   \n",
       "30930                  HONDA, ALL NEW BRIO E MT, 2020   8/27/2024   \n",
       "30931                 HONDA, ALL NEW BRIO E CVT, 2022  11/15/2024   \n",
       "30932                       HONDA, BRIO RS CVT , 2023  10/27/2024   \n",
       "\n",
       "            status  installment     cost_price   \n",
       "0      Operational    8,085,000    404,000,000   \n",
       "1      Operational    4,858,000    330,450,000   \n",
       "2      Operational    9,266,000    653,400,000   \n",
       "3      Operational    5,881,000    302,000,000   \n",
       "4      Operational    6,946,000    228,200,000   \n",
       "...            ...           ...            ...  \n",
       "30927  Operational    5,503,000    295,000,000   \n",
       "30929  Operational    6,864,000    360,500,000   \n",
       "30930  Operational    3,227,000    186,500,000   \n",
       "30931  Operational    3,703,000    189,700,000   \n",
       "30932  Operational    4,483,000    264,900,000   \n",
       "\n",
       "[29197 rows x 7 columns]"
      ]
     },
     "execution_count": 6,
     "metadata": {},
     "output_type": "execute_result"
    }
   ],
   "source": [
    "no_null = df[df['due_date'].notnull()].copy()\n",
    "no_null"
   ]
  },
  {
   "cell_type": "code",
   "execution_count": 7,
   "id": "b4d96532",
   "metadata": {},
   "outputs": [
    {
     "name": "stdout",
     "output_type": "stream",
     "text": [
      "['Operational' 'Write-off' 'Expired with Due Amount'\n",
      " 'Termination in progress']\n"
     ]
    },
    {
     "data": {
      "text/html": [
       "<div>\n",
       "<style scoped>\n",
       "    .dataframe tbody tr th:only-of-type {\n",
       "        vertical-align: middle;\n",
       "    }\n",
       "\n",
       "    .dataframe tbody tr th {\n",
       "        vertical-align: top;\n",
       "    }\n",
       "\n",
       "    .dataframe thead th {\n",
       "        text-align: right;\n",
       "    }\n",
       "</style>\n",
       "<table border=\"1\" class=\"dataframe\">\n",
       "  <thead>\n",
       "    <tr style=\"text-align: right;\">\n",
       "      <th></th>\n",
       "      <th>status</th>\n",
       "      <th>count</th>\n",
       "    </tr>\n",
       "  </thead>\n",
       "  <tbody>\n",
       "    <tr>\n",
       "      <th>0</th>\n",
       "      <td>Operational</td>\n",
       "      <td>27622</td>\n",
       "    </tr>\n",
       "    <tr>\n",
       "      <th>1</th>\n",
       "      <td>Write-off</td>\n",
       "      <td>1479</td>\n",
       "    </tr>\n",
       "    <tr>\n",
       "      <th>2</th>\n",
       "      <td>Expired with Due Amount</td>\n",
       "      <td>94</td>\n",
       "    </tr>\n",
       "    <tr>\n",
       "      <th>3</th>\n",
       "      <td>Termination in progress</td>\n",
       "      <td>2</td>\n",
       "    </tr>\n",
       "  </tbody>\n",
       "</table>\n",
       "</div>"
      ],
      "text/plain": [
       "                    status  count\n",
       "0              Operational  27622\n",
       "1                Write-off   1479\n",
       "2  Expired with Due Amount     94\n",
       "3  Termination in progress      2"
      ]
     },
     "execution_count": 7,
     "metadata": {},
     "output_type": "execute_result"
    }
   ],
   "source": [
    "unq_status_nn = no_null['status'].unique()\n",
    "print(unq_status_nn)\n",
    "unq_status_counts_nn = no_null['status'].value_counts(dropna=False).reset_index()\n",
    "unq_status_counts_nn"
   ]
  },
  {
   "cell_type": "markdown",
   "id": "3d3022d5",
   "metadata": {},
   "source": [
    "The difference can be seen that the 'complete' data without any null from due_date didn't have any 'Incomplete' status. </br>\n",
    "And now let's continue to check is there any duplications within the data"
   ]
  },
  {
   "cell_type": "code",
   "execution_count": 8,
   "id": "5a9d0508",
   "metadata": {},
   "outputs": [
    {
     "data": {
      "text/plain": [
       "527"
      ]
     },
     "execution_count": 8,
     "metadata": {},
     "output_type": "execute_result"
    }
   ],
   "source": [
    "num_dupes = df.duplicated().sum()\n",
    "num_dupes"
   ]
  },
  {
   "cell_type": "markdown",
   "id": "703dbdb6",
   "metadata": {},
   "source": [
    "More than 500 data are duplicated, let's check and then remove its duplicate data"
   ]
  },
  {
   "cell_type": "code",
   "execution_count": 9,
   "id": "cab4a910",
   "metadata": {},
   "outputs": [
    {
     "data": {
      "text/html": [
       "<div>\n",
       "<style scoped>\n",
       "    .dataframe tbody tr th:only-of-type {\n",
       "        vertical-align: middle;\n",
       "    }\n",
       "\n",
       "    .dataframe tbody tr th {\n",
       "        vertical-align: top;\n",
       "    }\n",
       "\n",
       "    .dataframe thead th {\n",
       "        text-align: right;\n",
       "    }\n",
       "</style>\n",
       "<table border=\"1\" class=\"dataframe\">\n",
       "  <thead>\n",
       "    <tr style=\"text-align: right;\">\n",
       "      <th></th>\n",
       "      <th>customer_name</th>\n",
       "      <th>dealer_name</th>\n",
       "      <th>unit_description</th>\n",
       "      <th>due_date</th>\n",
       "      <th>status</th>\n",
       "      <th>installment</th>\n",
       "      <th>cost_price</th>\n",
       "    </tr>\n",
       "  </thead>\n",
       "  <tbody>\n",
       "    <tr>\n",
       "      <th>3855</th>\n",
       "      <td>AYU LESTARI</td>\n",
       "      <td>HONDA NAGOYA</td>\n",
       "      <td>HONDA, BRIO SATYA 1.2 E CVT, 2023</td>\n",
       "      <td>10/27/2024</td>\n",
       "      <td>Operational</td>\n",
       "      <td>4,750,000</td>\n",
       "      <td>244,500,000</td>\n",
       "    </tr>\n",
       "    <tr>\n",
       "      <th>5040</th>\n",
       "      <td>CV. AMI GROUP</td>\n",
       "      <td>PT. GITA RIAU MAKMUR</td>\n",
       "      <td>HINO, DUTRO 136 HDX PTO + DUMP, 2022</td>\n",
       "      <td>8/27/2024</td>\n",
       "      <td>Operational</td>\n",
       "      <td>13,183,000</td>\n",
       "      <td>560,000,000</td>\n",
       "    </tr>\n",
       "    <tr>\n",
       "      <th>5049</th>\n",
       "      <td>CV. ASKA BALI</td>\n",
       "      <td>HONDA BINTANG TABANAN</td>\n",
       "      <td>HONDA, ALL NEW BRIO E CVT, 2022</td>\n",
       "      <td>10/27/2024</td>\n",
       "      <td>Operational</td>\n",
       "      <td>4,418,000</td>\n",
       "      <td>208,280,000</td>\n",
       "    </tr>\n",
       "    <tr>\n",
       "      <th>5051</th>\n",
       "      <td>CV. AYU MAS SARI</td>\n",
       "      <td>HONDA BINTANG TABANAN</td>\n",
       "      <td>HONDA, ALL NEW BRIO E CVT, 2022</td>\n",
       "      <td>10/27/2024</td>\n",
       "      <td>Operational</td>\n",
       "      <td>4,304,000</td>\n",
       "      <td>206,780,000</td>\n",
       "    </tr>\n",
       "    <tr>\n",
       "      <th>5052</th>\n",
       "      <td>CV. AYU MAS SARI</td>\n",
       "      <td>HONDA BINTANG TABANAN</td>\n",
       "      <td>HONDA, ALL NEW BRIO E CVT, 2022</td>\n",
       "      <td>10/27/2024</td>\n",
       "      <td>Operational</td>\n",
       "      <td>4,304,000</td>\n",
       "      <td>206,780,000</td>\n",
       "    </tr>\n",
       "    <tr>\n",
       "      <th>...</th>\n",
       "      <td>...</td>\n",
       "      <td>...</td>\n",
       "      <td>...</td>\n",
       "      <td>...</td>\n",
       "      <td>...</td>\n",
       "      <td>...</td>\n",
       "      <td>...</td>\n",
       "    </tr>\n",
       "    <tr>\n",
       "      <th>27940</th>\n",
       "      <td>THE MULIANA</td>\n",
       "      <td>AUTO2000 MUARA KARANG</td>\n",
       "      <td>TOYOTA, TOYOTA AVANZA G'08, 2008</td>\n",
       "      <td>NaN</td>\n",
       "      <td>Incomplete</td>\n",
       "      <td>9,488,000</td>\n",
       "      <td>131,850,000</td>\n",
       "    </tr>\n",
       "    <tr>\n",
       "      <th>29878</th>\n",
       "      <td>YAYASAN DANASHA</td>\n",
       "      <td>HONDA IMORA SENTUL</td>\n",
       "      <td>HONDA, ALL NEW BRIO RS CVT, 2020</td>\n",
       "      <td>11/15/2024</td>\n",
       "      <td>Operational</td>\n",
       "      <td>5,483,000</td>\n",
       "      <td>200,200,000</td>\n",
       "    </tr>\n",
       "    <tr>\n",
       "      <th>29879</th>\n",
       "      <td>YAYASAN DANASHA</td>\n",
       "      <td>HONDA IMORA SENTUL</td>\n",
       "      <td>HONDA, ALL NEW BRIO RS CVT, 2020</td>\n",
       "      <td>11/15/2024</td>\n",
       "      <td>Operational</td>\n",
       "      <td>5,483,000</td>\n",
       "      <td>200,200,000</td>\n",
       "    </tr>\n",
       "    <tr>\n",
       "      <th>29880</th>\n",
       "      <td>YAYASAN DANASHA</td>\n",
       "      <td>HONDA IMORA SENTUL</td>\n",
       "      <td>HONDA, ALL NEW BRIO RS CVT, 2020</td>\n",
       "      <td>11/15/2024</td>\n",
       "      <td>Operational</td>\n",
       "      <td>5,483,000</td>\n",
       "      <td>200,200,000</td>\n",
       "    </tr>\n",
       "    <tr>\n",
       "      <th>29881</th>\n",
       "      <td>YAYASAN DANASHA</td>\n",
       "      <td>HONDA IMORA SENTUL</td>\n",
       "      <td>HONDA, ALL NEW BRIO RS CVT, 2020</td>\n",
       "      <td>11/15/2024</td>\n",
       "      <td>Operational</td>\n",
       "      <td>5,483,000</td>\n",
       "      <td>200,200,000</td>\n",
       "    </tr>\n",
       "  </tbody>\n",
       "</table>\n",
       "<p>527 rows × 7 columns</p>\n",
       "</div>"
      ],
      "text/plain": [
       "          customer_name            dealer_name  \\\n",
       "3855        AYU LESTARI           HONDA NAGOYA   \n",
       "5040      CV. AMI GROUP   PT. GITA RIAU MAKMUR   \n",
       "5049      CV. ASKA BALI  HONDA BINTANG TABANAN   \n",
       "5051   CV. AYU MAS SARI  HONDA BINTANG TABANAN   \n",
       "5052   CV. AYU MAS SARI  HONDA BINTANG TABANAN   \n",
       "...                 ...                    ...   \n",
       "27940       THE MULIANA  AUTO2000 MUARA KARANG   \n",
       "29878   YAYASAN DANASHA     HONDA IMORA SENTUL   \n",
       "29879   YAYASAN DANASHA     HONDA IMORA SENTUL   \n",
       "29880   YAYASAN DANASHA     HONDA IMORA SENTUL   \n",
       "29881   YAYASAN DANASHA     HONDA IMORA SENTUL   \n",
       "\n",
       "                           unit_description    due_date       status  \\\n",
       "3855      HONDA, BRIO SATYA 1.2 E CVT, 2023  10/27/2024  Operational   \n",
       "5040   HINO, DUTRO 136 HDX PTO + DUMP, 2022   8/27/2024  Operational   \n",
       "5049        HONDA, ALL NEW BRIO E CVT, 2022  10/27/2024  Operational   \n",
       "5051        HONDA, ALL NEW BRIO E CVT, 2022  10/27/2024  Operational   \n",
       "5052        HONDA, ALL NEW BRIO E CVT, 2022  10/27/2024  Operational   \n",
       "...                                     ...         ...          ...   \n",
       "27940      TOYOTA, TOYOTA AVANZA G'08, 2008         NaN   Incomplete   \n",
       "29878      HONDA, ALL NEW BRIO RS CVT, 2020  11/15/2024  Operational   \n",
       "29879      HONDA, ALL NEW BRIO RS CVT, 2020  11/15/2024  Operational   \n",
       "29880      HONDA, ALL NEW BRIO RS CVT, 2020  11/15/2024  Operational   \n",
       "29881      HONDA, ALL NEW BRIO RS CVT, 2020  11/15/2024  Operational   \n",
       "\n",
       "       installment     cost_price   \n",
       "3855     4,750,000    244,500,000   \n",
       "5040    13,183,000    560,000,000   \n",
       "5049     4,418,000    208,280,000   \n",
       "5051     4,304,000    206,780,000   \n",
       "5052     4,304,000    206,780,000   \n",
       "...             ...            ...  \n",
       "27940    9,488,000    131,850,000   \n",
       "29878    5,483,000    200,200,000   \n",
       "29879    5,483,000    200,200,000   \n",
       "29880    5,483,000    200,200,000   \n",
       "29881    5,483,000    200,200,000   \n",
       "\n",
       "[527 rows x 7 columns]"
      ]
     },
     "execution_count": 9,
     "metadata": {},
     "output_type": "execute_result"
    }
   ],
   "source": [
    "dupes = df[df.duplicated(keep='first')] # Here i'm using the keep='first' to show only its duplication appearance, it can be seen that there are data that\n",
    "                                        # have multiple of duplication!\n",
    "dupes"
   ]
  },
  {
   "cell_type": "markdown",
   "id": "87ef60d5",
   "metadata": {},
   "source": [
    "The dupes showed above are based of full columns check, means that it shows as duplicate only if all of the column values are equal (==) </br>\n",
    "Now let's just drop the duplicates and don't forget to reset its index."
   ]
  },
  {
   "cell_type": "code",
   "execution_count": 10,
   "id": "5cafea4c",
   "metadata": {},
   "outputs": [
    {
     "name": "stdout",
     "output_type": "stream",
     "text": [
      "527 number of duplicates has been successfully removed.\n",
      "0\n"
     ]
    },
    {
     "data": {
      "text/html": [
       "<div>\n",
       "<style scoped>\n",
       "    .dataframe tbody tr th:only-of-type {\n",
       "        vertical-align: middle;\n",
       "    }\n",
       "\n",
       "    .dataframe tbody tr th {\n",
       "        vertical-align: top;\n",
       "    }\n",
       "\n",
       "    .dataframe thead th {\n",
       "        text-align: right;\n",
       "    }\n",
       "</style>\n",
       "<table border=\"1\" class=\"dataframe\">\n",
       "  <thead>\n",
       "    <tr style=\"text-align: right;\">\n",
       "      <th></th>\n",
       "      <th>customer_name</th>\n",
       "      <th>dealer_name</th>\n",
       "      <th>unit_description</th>\n",
       "      <th>due_date</th>\n",
       "      <th>status</th>\n",
       "      <th>installment</th>\n",
       "      <th>cost_price</th>\n",
       "    </tr>\n",
       "  </thead>\n",
       "  <tbody>\n",
       "    <tr>\n",
       "      <th>0</th>\n",
       "      <td>AMRUL QOIS</td>\n",
       "      <td>HYUNDAI MAMPANG</td>\n",
       "      <td>HYUNDAI, CRETA PRIME 1.5 SINGLE TONE IVT, 2022</td>\n",
       "      <td>10/27/2024</td>\n",
       "      <td>Operational</td>\n",
       "      <td>8,085,000</td>\n",
       "      <td>404,000,000</td>\n",
       "    </tr>\n",
       "    <tr>\n",
       "      <th>1</th>\n",
       "      <td>AZIZATUL MUNIFAH</td>\n",
       "      <td>HONDA MANDALASENA</td>\n",
       "      <td>HONDA, ALL NEW BR-V E CVT, 2023</td>\n",
       "      <td>11/10/2024</td>\n",
       "      <td>Operational</td>\n",
       "      <td>4,858,000</td>\n",
       "      <td>330,450,000</td>\n",
       "    </tr>\n",
       "    <tr>\n",
       "      <th>2</th>\n",
       "      <td>BHARATH SRINIVASAN SETHURAMAN</td>\n",
       "      <td>HONDA MANDIRI BOGOR</td>\n",
       "      <td>HONDA, ALL NEW CRV 1.5 TURBO PRESTIGE, 2022</td>\n",
       "      <td>11/15/2024</td>\n",
       "      <td>Operational</td>\n",
       "      <td>9,266,000</td>\n",
       "      <td>653,400,000</td>\n",
       "    </tr>\n",
       "    <tr>\n",
       "      <th>3</th>\n",
       "      <td>MARSUDIN</td>\n",
       "      <td>HONDA CIKARANG</td>\n",
       "      <td>HONDA, ALL NEW CITY HATCHBACK RS CVT, 2021</td>\n",
       "      <td>10/27/2024</td>\n",
       "      <td>Operational</td>\n",
       "      <td>5,881,000</td>\n",
       "      <td>302,000,000</td>\n",
       "    </tr>\n",
       "    <tr>\n",
       "      <th>4</th>\n",
       "      <td>NI NYOMAN PUJI ASTUTI</td>\n",
       "      <td>HONDA BINTANG TABANAN</td>\n",
       "      <td>HONDA, ALL NEW BRIO E CVT, 2024</td>\n",
       "      <td>11/25/2024</td>\n",
       "      <td>Operational</td>\n",
       "      <td>6,946,000</td>\n",
       "      <td>228,200,000</td>\n",
       "    </tr>\n",
       "    <tr>\n",
       "      <th>...</th>\n",
       "      <td>...</td>\n",
       "      <td>...</td>\n",
       "      <td>...</td>\n",
       "      <td>...</td>\n",
       "      <td>...</td>\n",
       "      <td>...</td>\n",
       "      <td>...</td>\n",
       "    </tr>\n",
       "    <tr>\n",
       "      <th>30401</th>\n",
       "      <td>ZURAIDA,S.PD</td>\n",
       "      <td>HONDA AUTOBEST</td>\n",
       "      <td>HONDA, HONDA JAZZ E RS MT 2012(ASURANSI CAPITA...</td>\n",
       "      <td>NaN</td>\n",
       "      <td>Incomplete</td>\n",
       "      <td>5,325,000</td>\n",
       "      <td>215,000,000</td>\n",
       "    </tr>\n",
       "    <tr>\n",
       "      <th>30402</th>\n",
       "      <td>ZURDALENIS</td>\n",
       "      <td>HONDA WILTOP JAMBI</td>\n",
       "      <td>HONDA, ALL NEW BRV PRESTIGE, 2022</td>\n",
       "      <td>9/27/2024</td>\n",
       "      <td>Operational</td>\n",
       "      <td>6,864,000</td>\n",
       "      <td>360,500,000</td>\n",
       "    </tr>\n",
       "    <tr>\n",
       "      <th>30403</th>\n",
       "      <td>ZURDEWAN</td>\n",
       "      <td>HONDA ARISTA PEKANBARU</td>\n",
       "      <td>HONDA, ALL NEW BRIO E MT, 2020</td>\n",
       "      <td>8/27/2024</td>\n",
       "      <td>Operational</td>\n",
       "      <td>3,227,000</td>\n",
       "      <td>186,500,000</td>\n",
       "    </tr>\n",
       "    <tr>\n",
       "      <th>30404</th>\n",
       "      <td>ZURISMIATI</td>\n",
       "      <td>HONDA DAAN MOGOT</td>\n",
       "      <td>HONDA, ALL NEW BRIO E CVT, 2022</td>\n",
       "      <td>11/15/2024</td>\n",
       "      <td>Operational</td>\n",
       "      <td>3,703,000</td>\n",
       "      <td>189,700,000</td>\n",
       "    </tr>\n",
       "    <tr>\n",
       "      <th>30405</th>\n",
       "      <td>ZWESTY DOLLY CORNELES</td>\n",
       "      <td>HONDA MARTADINATA 2 MANADO</td>\n",
       "      <td>HONDA, BRIO RS CVT , 2023</td>\n",
       "      <td>10/27/2024</td>\n",
       "      <td>Operational</td>\n",
       "      <td>4,483,000</td>\n",
       "      <td>264,900,000</td>\n",
       "    </tr>\n",
       "  </tbody>\n",
       "</table>\n",
       "<p>30406 rows × 7 columns</p>\n",
       "</div>"
      ],
      "text/plain": [
       "                        customer_name                 dealer_name  \\\n",
       "0                          AMRUL QOIS             HYUNDAI MAMPANG   \n",
       "1                    AZIZATUL MUNIFAH           HONDA MANDALASENA   \n",
       "2       BHARATH SRINIVASAN SETHURAMAN         HONDA MANDIRI BOGOR   \n",
       "3                            MARSUDIN              HONDA CIKARANG   \n",
       "4               NI NYOMAN PUJI ASTUTI       HONDA BINTANG TABANAN   \n",
       "...                               ...                         ...   \n",
       "30401                    ZURAIDA,S.PD              HONDA AUTOBEST   \n",
       "30402                      ZURDALENIS          HONDA WILTOP JAMBI   \n",
       "30403                       ZURDEWAN       HONDA ARISTA PEKANBARU   \n",
       "30404                      ZURISMIATI            HONDA DAAN MOGOT   \n",
       "30405           ZWESTY DOLLY CORNELES  HONDA MARTADINATA 2 MANADO   \n",
       "\n",
       "                                        unit_description    due_date  \\\n",
       "0         HYUNDAI, CRETA PRIME 1.5 SINGLE TONE IVT, 2022  10/27/2024   \n",
       "1                        HONDA, ALL NEW BR-V E CVT, 2023  11/10/2024   \n",
       "2            HONDA, ALL NEW CRV 1.5 TURBO PRESTIGE, 2022  11/15/2024   \n",
       "3             HONDA, ALL NEW CITY HATCHBACK RS CVT, 2021  10/27/2024   \n",
       "4                        HONDA, ALL NEW BRIO E CVT, 2024  11/25/2024   \n",
       "...                                                  ...         ...   \n",
       "30401  HONDA, HONDA JAZZ E RS MT 2012(ASURANSI CAPITA...         NaN   \n",
       "30402                  HONDA, ALL NEW BRV PRESTIGE, 2022   9/27/2024   \n",
       "30403                     HONDA, ALL NEW BRIO E MT, 2020   8/27/2024   \n",
       "30404                    HONDA, ALL NEW BRIO E CVT, 2022  11/15/2024   \n",
       "30405                          HONDA, BRIO RS CVT , 2023  10/27/2024   \n",
       "\n",
       "            status  installment     cost_price   \n",
       "0      Operational    8,085,000    404,000,000   \n",
       "1      Operational    4,858,000    330,450,000   \n",
       "2      Operational    9,266,000    653,400,000   \n",
       "3      Operational    5,881,000    302,000,000   \n",
       "4      Operational    6,946,000    228,200,000   \n",
       "...            ...           ...            ...  \n",
       "30401   Incomplete    5,325,000    215,000,000   \n",
       "30402  Operational    6,864,000    360,500,000   \n",
       "30403  Operational    3,227,000    186,500,000   \n",
       "30404  Operational    3,703,000    189,700,000   \n",
       "30405  Operational    4,483,000    264,900,000   \n",
       "\n",
       "[30406 rows x 7 columns]"
      ]
     },
     "execution_count": 10,
     "metadata": {},
     "output_type": "execute_result"
    }
   ],
   "source": [
    "prev_size = len(df)\n",
    "df = df.drop_duplicates().reset_index(drop=True)\n",
    "curr_size = len(df)\n",
    "removed_total = prev_size - curr_size\n",
    "print(f\"{removed_total} number of duplicates has been successfully removed.\")\n",
    "# Try to check its dupes again\n",
    "num_dupes = df.duplicated().sum()\n",
    "print(num_dupes)\n",
    "df"
   ]
  },
  {
   "cell_type": "markdown",
   "id": "b69b75d1",
   "metadata": {},
   "source": [
    "Now it's done, there's no need to impute its null value because every row has its meaning </br> \n",
    "(can be seen based on the distinct value of its status, compared to the clean one). </br>\n",
    "Now let's move to check its dataformat, and try to fix if something unusual has been found."
   ]
  },
  {
   "cell_type": "code",
   "execution_count": 11,
   "id": "09b02486",
   "metadata": {},
   "outputs": [
    {
     "data": {
      "text/plain": [
       "customer_name       object\n",
       "dealer_name         object\n",
       "unit_description    object\n",
       "due_date            object\n",
       "status              object\n",
       " installment        object\n",
       " cost_price         object\n",
       "dtype: object"
      ]
     },
     "execution_count": 11,
     "metadata": {},
     "output_type": "execute_result"
    }
   ],
   "source": [
    "df.dtypes"
   ]
  },
  {
   "cell_type": "markdown",
   "id": "74e48324",
   "metadata": {},
   "source": [
    "As we can see above, all the data are loaded as an object. it's a common problem that usually occured after the data has been pulled from the DBMS (as .csv), let's correct it into the right one."
   ]
  },
  {
   "cell_type": "code",
   "execution_count": 12,
   "id": "c8801ae2",
   "metadata": {},
   "outputs": [
    {
     "name": "stdout",
     "output_type": "stream",
     "text": [
      "['customer_name', 'dealer_name', 'unit_description', 'due_date', 'status', ' installment ', ' cost_price ']\n"
     ]
    }
   ],
   "source": [
    "# Before that, let's check and remove first/last whitespace either in value or column as part of formatting the errors.\n",
    "print(df.columns.tolist())"
   ]
  },
  {
   "cell_type": "code",
   "execution_count": 13,
   "id": "6ea2eaf9",
   "metadata": {},
   "outputs": [
    {
     "name": "stdout",
     "output_type": "stream",
     "text": [
      "['customer_name', 'dealer_name', 'unit_description', 'due_date', 'status', 'installment', 'cost_price']\n"
     ]
    }
   ],
   "source": [
    "df.columns = df.columns.str.strip()\n",
    "print(df.columns.tolist())"
   ]
  },
  {
   "cell_type": "markdown",
   "id": "a04d8da5",
   "metadata": {},
   "source": [
    "Now the column name seems ok, let's check the value as well"
   ]
  },
  {
   "cell_type": "code",
   "execution_count": 14,
   "id": "b8f28899",
   "metadata": {},
   "outputs": [
    {
     "ename": "ValueError",
     "evalue": "invalid literal for int() with base 10: ' 8,085,000 '",
     "output_type": "error",
     "traceback": [
      "\u001b[31m---------------------------------------------------------------------------\u001b[39m",
      "\u001b[31mValueError\u001b[39m                                Traceback (most recent call last)",
      "\u001b[36mCell\u001b[39m\u001b[36m \u001b[39m\u001b[32mIn[14]\u001b[39m\u001b[32m, line 1\u001b[39m\n\u001b[32m----> \u001b[39m\u001b[32m1\u001b[39m df[\u001b[33m'\u001b[39m\u001b[33minstallment\u001b[39m\u001b[33m'\u001b[39m] = \u001b[43mdf\u001b[49m\u001b[43m[\u001b[49m\u001b[33;43m'\u001b[39;49m\u001b[33;43minstallment\u001b[39;49m\u001b[33;43m'\u001b[39;49m\u001b[43m]\u001b[49m\u001b[43m.\u001b[49m\u001b[43mastype\u001b[49m\u001b[43m(\u001b[49m\u001b[38;5;28;43mint\u001b[39;49m\u001b[43m)\u001b[49m\n\u001b[32m      2\u001b[39m df.dtypes\n",
      "\u001b[36mFile \u001b[39m\u001b[32mc:\\Users\\Satria Audria Sakti\\AppData\\Local\\Programs\\Python\\Python311\\Lib\\site-packages\\pandas\\core\\generic.py:6643\u001b[39m, in \u001b[36mNDFrame.astype\u001b[39m\u001b[34m(self, dtype, copy, errors)\u001b[39m\n\u001b[32m   6637\u001b[39m     results = [\n\u001b[32m   6638\u001b[39m         ser.astype(dtype, copy=copy, errors=errors) \u001b[38;5;28;01mfor\u001b[39;00m _, ser \u001b[38;5;129;01min\u001b[39;00m \u001b[38;5;28mself\u001b[39m.items()\n\u001b[32m   6639\u001b[39m     ]\n\u001b[32m   6641\u001b[39m \u001b[38;5;28;01melse\u001b[39;00m:\n\u001b[32m   6642\u001b[39m     \u001b[38;5;66;03m# else, only a single dtype is given\u001b[39;00m\n\u001b[32m-> \u001b[39m\u001b[32m6643\u001b[39m     new_data = \u001b[38;5;28;43mself\u001b[39;49m\u001b[43m.\u001b[49m\u001b[43m_mgr\u001b[49m\u001b[43m.\u001b[49m\u001b[43mastype\u001b[49m\u001b[43m(\u001b[49m\u001b[43mdtype\u001b[49m\u001b[43m=\u001b[49m\u001b[43mdtype\u001b[49m\u001b[43m,\u001b[49m\u001b[43m \u001b[49m\u001b[43mcopy\u001b[49m\u001b[43m=\u001b[49m\u001b[43mcopy\u001b[49m\u001b[43m,\u001b[49m\u001b[43m \u001b[49m\u001b[43merrors\u001b[49m\u001b[43m=\u001b[49m\u001b[43merrors\u001b[49m\u001b[43m)\u001b[49m\n\u001b[32m   6644\u001b[39m     res = \u001b[38;5;28mself\u001b[39m._constructor_from_mgr(new_data, axes=new_data.axes)\n\u001b[32m   6645\u001b[39m     \u001b[38;5;28;01mreturn\u001b[39;00m res.__finalize__(\u001b[38;5;28mself\u001b[39m, method=\u001b[33m\"\u001b[39m\u001b[33mastype\u001b[39m\u001b[33m\"\u001b[39m)\n",
      "\u001b[36mFile \u001b[39m\u001b[32mc:\\Users\\Satria Audria Sakti\\AppData\\Local\\Programs\\Python\\Python311\\Lib\\site-packages\\pandas\\core\\internals\\managers.py:430\u001b[39m, in \u001b[36mBaseBlockManager.astype\u001b[39m\u001b[34m(self, dtype, copy, errors)\u001b[39m\n\u001b[32m    427\u001b[39m \u001b[38;5;28;01melif\u001b[39;00m using_copy_on_write():\n\u001b[32m    428\u001b[39m     copy = \u001b[38;5;28;01mFalse\u001b[39;00m\n\u001b[32m--> \u001b[39m\u001b[32m430\u001b[39m \u001b[38;5;28;01mreturn\u001b[39;00m \u001b[38;5;28;43mself\u001b[39;49m\u001b[43m.\u001b[49m\u001b[43mapply\u001b[49m\u001b[43m(\u001b[49m\n\u001b[32m    431\u001b[39m \u001b[43m    \u001b[49m\u001b[33;43m\"\u001b[39;49m\u001b[33;43mastype\u001b[39;49m\u001b[33;43m\"\u001b[39;49m\u001b[43m,\u001b[49m\n\u001b[32m    432\u001b[39m \u001b[43m    \u001b[49m\u001b[43mdtype\u001b[49m\u001b[43m=\u001b[49m\u001b[43mdtype\u001b[49m\u001b[43m,\u001b[49m\n\u001b[32m    433\u001b[39m \u001b[43m    \u001b[49m\u001b[43mcopy\u001b[49m\u001b[43m=\u001b[49m\u001b[43mcopy\u001b[49m\u001b[43m,\u001b[49m\n\u001b[32m    434\u001b[39m \u001b[43m    \u001b[49m\u001b[43merrors\u001b[49m\u001b[43m=\u001b[49m\u001b[43merrors\u001b[49m\u001b[43m,\u001b[49m\n\u001b[32m    435\u001b[39m \u001b[43m    \u001b[49m\u001b[43musing_cow\u001b[49m\u001b[43m=\u001b[49m\u001b[43musing_copy_on_write\u001b[49m\u001b[43m(\u001b[49m\u001b[43m)\u001b[49m\u001b[43m,\u001b[49m\n\u001b[32m    436\u001b[39m \u001b[43m\u001b[49m\u001b[43m)\u001b[49m\n",
      "\u001b[36mFile \u001b[39m\u001b[32mc:\\Users\\Satria Audria Sakti\\AppData\\Local\\Programs\\Python\\Python311\\Lib\\site-packages\\pandas\\core\\internals\\managers.py:363\u001b[39m, in \u001b[36mBaseBlockManager.apply\u001b[39m\u001b[34m(self, f, align_keys, **kwargs)\u001b[39m\n\u001b[32m    361\u001b[39m         applied = b.apply(f, **kwargs)\n\u001b[32m    362\u001b[39m     \u001b[38;5;28;01melse\u001b[39;00m:\n\u001b[32m--> \u001b[39m\u001b[32m363\u001b[39m         applied = \u001b[38;5;28;43mgetattr\u001b[39;49m\u001b[43m(\u001b[49m\u001b[43mb\u001b[49m\u001b[43m,\u001b[49m\u001b[43m \u001b[49m\u001b[43mf\u001b[49m\u001b[43m)\u001b[49m\u001b[43m(\u001b[49m\u001b[43m*\u001b[49m\u001b[43m*\u001b[49m\u001b[43mkwargs\u001b[49m\u001b[43m)\u001b[49m\n\u001b[32m    364\u001b[39m     result_blocks = extend_blocks(applied, result_blocks)\n\u001b[32m    366\u001b[39m out = \u001b[38;5;28mtype\u001b[39m(\u001b[38;5;28mself\u001b[39m).from_blocks(result_blocks, \u001b[38;5;28mself\u001b[39m.axes)\n",
      "\u001b[36mFile \u001b[39m\u001b[32mc:\\Users\\Satria Audria Sakti\\AppData\\Local\\Programs\\Python\\Python311\\Lib\\site-packages\\pandas\\core\\internals\\blocks.py:758\u001b[39m, in \u001b[36mBlock.astype\u001b[39m\u001b[34m(self, dtype, copy, errors, using_cow, squeeze)\u001b[39m\n\u001b[32m    755\u001b[39m         \u001b[38;5;28;01mraise\u001b[39;00m \u001b[38;5;167;01mValueError\u001b[39;00m(\u001b[33m\"\u001b[39m\u001b[33mCan not squeeze with more than one column.\u001b[39m\u001b[33m\"\u001b[39m)\n\u001b[32m    756\u001b[39m     values = values[\u001b[32m0\u001b[39m, :]  \u001b[38;5;66;03m# type: ignore[call-overload]\u001b[39;00m\n\u001b[32m--> \u001b[39m\u001b[32m758\u001b[39m new_values = \u001b[43mastype_array_safe\u001b[49m\u001b[43m(\u001b[49m\u001b[43mvalues\u001b[49m\u001b[43m,\u001b[49m\u001b[43m \u001b[49m\u001b[43mdtype\u001b[49m\u001b[43m,\u001b[49m\u001b[43m \u001b[49m\u001b[43mcopy\u001b[49m\u001b[43m=\u001b[49m\u001b[43mcopy\u001b[49m\u001b[43m,\u001b[49m\u001b[43m \u001b[49m\u001b[43merrors\u001b[49m\u001b[43m=\u001b[49m\u001b[43merrors\u001b[49m\u001b[43m)\u001b[49m\n\u001b[32m    760\u001b[39m new_values = maybe_coerce_values(new_values)\n\u001b[32m    762\u001b[39m refs = \u001b[38;5;28;01mNone\u001b[39;00m\n",
      "\u001b[36mFile \u001b[39m\u001b[32mc:\\Users\\Satria Audria Sakti\\AppData\\Local\\Programs\\Python\\Python311\\Lib\\site-packages\\pandas\\core\\dtypes\\astype.py:237\u001b[39m, in \u001b[36mastype_array_safe\u001b[39m\u001b[34m(values, dtype, copy, errors)\u001b[39m\n\u001b[32m    234\u001b[39m     dtype = dtype.numpy_dtype\n\u001b[32m    236\u001b[39m \u001b[38;5;28;01mtry\u001b[39;00m:\n\u001b[32m--> \u001b[39m\u001b[32m237\u001b[39m     new_values = \u001b[43mastype_array\u001b[49m\u001b[43m(\u001b[49m\u001b[43mvalues\u001b[49m\u001b[43m,\u001b[49m\u001b[43m \u001b[49m\u001b[43mdtype\u001b[49m\u001b[43m,\u001b[49m\u001b[43m \u001b[49m\u001b[43mcopy\u001b[49m\u001b[43m=\u001b[49m\u001b[43mcopy\u001b[49m\u001b[43m)\u001b[49m\n\u001b[32m    238\u001b[39m \u001b[38;5;28;01mexcept\u001b[39;00m (\u001b[38;5;167;01mValueError\u001b[39;00m, \u001b[38;5;167;01mTypeError\u001b[39;00m):\n\u001b[32m    239\u001b[39m     \u001b[38;5;66;03m# e.g. _astype_nansafe can fail on object-dtype of strings\u001b[39;00m\n\u001b[32m    240\u001b[39m     \u001b[38;5;66;03m#  trying to convert to float\u001b[39;00m\n\u001b[32m    241\u001b[39m     \u001b[38;5;28;01mif\u001b[39;00m errors == \u001b[33m\"\u001b[39m\u001b[33mignore\u001b[39m\u001b[33m\"\u001b[39m:\n",
      "\u001b[36mFile \u001b[39m\u001b[32mc:\\Users\\Satria Audria Sakti\\AppData\\Local\\Programs\\Python\\Python311\\Lib\\site-packages\\pandas\\core\\dtypes\\astype.py:182\u001b[39m, in \u001b[36mastype_array\u001b[39m\u001b[34m(values, dtype, copy)\u001b[39m\n\u001b[32m    179\u001b[39m     values = values.astype(dtype, copy=copy)\n\u001b[32m    181\u001b[39m \u001b[38;5;28;01melse\u001b[39;00m:\n\u001b[32m--> \u001b[39m\u001b[32m182\u001b[39m     values = \u001b[43m_astype_nansafe\u001b[49m\u001b[43m(\u001b[49m\u001b[43mvalues\u001b[49m\u001b[43m,\u001b[49m\u001b[43m \u001b[49m\u001b[43mdtype\u001b[49m\u001b[43m,\u001b[49m\u001b[43m \u001b[49m\u001b[43mcopy\u001b[49m\u001b[43m=\u001b[49m\u001b[43mcopy\u001b[49m\u001b[43m)\u001b[49m\n\u001b[32m    184\u001b[39m \u001b[38;5;66;03m# in pandas we don't store numpy str dtypes, so convert to object\u001b[39;00m\n\u001b[32m    185\u001b[39m \u001b[38;5;28;01mif\u001b[39;00m \u001b[38;5;28misinstance\u001b[39m(dtype, np.dtype) \u001b[38;5;129;01mand\u001b[39;00m \u001b[38;5;28missubclass\u001b[39m(values.dtype.type, \u001b[38;5;28mstr\u001b[39m):\n",
      "\u001b[36mFile \u001b[39m\u001b[32mc:\\Users\\Satria Audria Sakti\\AppData\\Local\\Programs\\Python\\Python311\\Lib\\site-packages\\pandas\\core\\dtypes\\astype.py:133\u001b[39m, in \u001b[36m_astype_nansafe\u001b[39m\u001b[34m(arr, dtype, copy, skipna)\u001b[39m\n\u001b[32m    129\u001b[39m     \u001b[38;5;28;01mraise\u001b[39;00m \u001b[38;5;167;01mValueError\u001b[39;00m(msg)\n\u001b[32m    131\u001b[39m \u001b[38;5;28;01mif\u001b[39;00m copy \u001b[38;5;129;01mor\u001b[39;00m arr.dtype == \u001b[38;5;28mobject\u001b[39m \u001b[38;5;129;01mor\u001b[39;00m dtype == \u001b[38;5;28mobject\u001b[39m:\n\u001b[32m    132\u001b[39m     \u001b[38;5;66;03m# Explicit copy, or required since NumPy can't view from / to object.\u001b[39;00m\n\u001b[32m--> \u001b[39m\u001b[32m133\u001b[39m     \u001b[38;5;28;01mreturn\u001b[39;00m \u001b[43marr\u001b[49m\u001b[43m.\u001b[49m\u001b[43mastype\u001b[49m\u001b[43m(\u001b[49m\u001b[43mdtype\u001b[49m\u001b[43m,\u001b[49m\u001b[43m \u001b[49m\u001b[43mcopy\u001b[49m\u001b[43m=\u001b[49m\u001b[38;5;28;43;01mTrue\u001b[39;49;00m\u001b[43m)\u001b[49m\n\u001b[32m    135\u001b[39m \u001b[38;5;28;01mreturn\u001b[39;00m arr.astype(dtype, copy=copy)\n",
      "\u001b[31mValueError\u001b[39m: invalid literal for int() with base 10: ' 8,085,000 '"
     ]
    }
   ],
   "source": [
    "df['installment'] = df['installment'].astype(int)\n",
    "df.dtypes"
   ]
  },
  {
   "cell_type": "markdown",
   "id": "f277cca6",
   "metadata": {},
   "source": [
    "As we can see above, numeric data shouldn't have any char except numbers in its value. Let's remove every comma in `installment` and `cost_price`"
   ]
  },
  {
   "cell_type": "code",
   "execution_count": 15,
   "id": "01f8afac",
   "metadata": {},
   "outputs": [
    {
     "data": {
      "text/plain": [
       "customer_name        object\n",
       "dealer_name          object\n",
       "unit_description     object\n",
       "due_date             object\n",
       "status               object\n",
       "installment         float64\n",
       "cost_price          float64\n",
       "dtype: object"
      ]
     },
     "execution_count": 15,
     "metadata": {},
     "output_type": "execute_result"
    }
   ],
   "source": [
    "# Repair the installment and cost_price cols\n",
    "df['installment'] = df['installment'].str.replace(',', '', regex=False).astype(float)\n",
    "df['cost_price'] = df['cost_price'].str.replace(',', '', regex=False).astype(float)\n",
    "df.dtypes"
   ]
  },
  {
   "cell_type": "markdown",
   "id": "d9c2113c",
   "metadata": {},
   "source": [
    "I casted the dtype into float instead of int to make it safer and more effective since it holds 'payment/price' data."
   ]
  },
  {
   "cell_type": "code",
   "execution_count": 16,
   "id": "597193ff",
   "metadata": {},
   "outputs": [
    {
     "data": {
      "text/html": [
       "<div>\n",
       "<style scoped>\n",
       "    .dataframe tbody tr th:only-of-type {\n",
       "        vertical-align: middle;\n",
       "    }\n",
       "\n",
       "    .dataframe tbody tr th {\n",
       "        vertical-align: top;\n",
       "    }\n",
       "\n",
       "    .dataframe thead th {\n",
       "        text-align: right;\n",
       "    }\n",
       "</style>\n",
       "<table border=\"1\" class=\"dataframe\">\n",
       "  <thead>\n",
       "    <tr style=\"text-align: right;\">\n",
       "      <th></th>\n",
       "      <th>customer_name</th>\n",
       "      <th>dealer_name</th>\n",
       "      <th>unit_description</th>\n",
       "      <th>due_date</th>\n",
       "      <th>status</th>\n",
       "      <th>installment</th>\n",
       "      <th>cost_price</th>\n",
       "    </tr>\n",
       "  </thead>\n",
       "  <tbody>\n",
       "    <tr>\n",
       "      <th>0</th>\n",
       "      <td>AMRUL QOIS</td>\n",
       "      <td>HYUNDAI MAMPANG</td>\n",
       "      <td>HYUNDAI, CRETA PRIME 1.5 SINGLE TONE IVT, 2022</td>\n",
       "      <td>10/27/2024</td>\n",
       "      <td>Operational</td>\n",
       "      <td>8085000.0</td>\n",
       "      <td>404000000.0</td>\n",
       "    </tr>\n",
       "    <tr>\n",
       "      <th>1</th>\n",
       "      <td>AZIZATUL MUNIFAH</td>\n",
       "      <td>HONDA MANDALASENA</td>\n",
       "      <td>HONDA, ALL NEW BR-V E CVT, 2023</td>\n",
       "      <td>11/10/2024</td>\n",
       "      <td>Operational</td>\n",
       "      <td>4858000.0</td>\n",
       "      <td>330450000.0</td>\n",
       "    </tr>\n",
       "    <tr>\n",
       "      <th>2</th>\n",
       "      <td>BHARATH SRINIVASAN SETHURAMAN</td>\n",
       "      <td>HONDA MANDIRI BOGOR</td>\n",
       "      <td>HONDA, ALL NEW CRV 1.5 TURBO PRESTIGE, 2022</td>\n",
       "      <td>11/15/2024</td>\n",
       "      <td>Operational</td>\n",
       "      <td>9266000.0</td>\n",
       "      <td>653400000.0</td>\n",
       "    </tr>\n",
       "    <tr>\n",
       "      <th>3</th>\n",
       "      <td>MARSUDIN</td>\n",
       "      <td>HONDA CIKARANG</td>\n",
       "      <td>HONDA, ALL NEW CITY HATCHBACK RS CVT, 2021</td>\n",
       "      <td>10/27/2024</td>\n",
       "      <td>Operational</td>\n",
       "      <td>5881000.0</td>\n",
       "      <td>302000000.0</td>\n",
       "    </tr>\n",
       "    <tr>\n",
       "      <th>4</th>\n",
       "      <td>NI NYOMAN PUJI ASTUTI</td>\n",
       "      <td>HONDA BINTANG TABANAN</td>\n",
       "      <td>HONDA, ALL NEW BRIO E CVT, 2024</td>\n",
       "      <td>11/25/2024</td>\n",
       "      <td>Operational</td>\n",
       "      <td>6946000.0</td>\n",
       "      <td>228200000.0</td>\n",
       "    </tr>\n",
       "    <tr>\n",
       "      <th>...</th>\n",
       "      <td>...</td>\n",
       "      <td>...</td>\n",
       "      <td>...</td>\n",
       "      <td>...</td>\n",
       "      <td>...</td>\n",
       "      <td>...</td>\n",
       "      <td>...</td>\n",
       "    </tr>\n",
       "    <tr>\n",
       "      <th>30401</th>\n",
       "      <td>ZURAIDA,S.PD</td>\n",
       "      <td>HONDA AUTOBEST</td>\n",
       "      <td>HONDA, HONDA JAZZ E RS MT 2012(ASURANSI CAPITA...</td>\n",
       "      <td>NaN</td>\n",
       "      <td>Incomplete</td>\n",
       "      <td>5325000.0</td>\n",
       "      <td>215000000.0</td>\n",
       "    </tr>\n",
       "    <tr>\n",
       "      <th>30402</th>\n",
       "      <td>ZURDALENIS</td>\n",
       "      <td>HONDA WILTOP JAMBI</td>\n",
       "      <td>HONDA, ALL NEW BRV PRESTIGE, 2022</td>\n",
       "      <td>9/27/2024</td>\n",
       "      <td>Operational</td>\n",
       "      <td>6864000.0</td>\n",
       "      <td>360500000.0</td>\n",
       "    </tr>\n",
       "    <tr>\n",
       "      <th>30403</th>\n",
       "      <td>ZURDEWAN</td>\n",
       "      <td>HONDA ARISTA PEKANBARU</td>\n",
       "      <td>HONDA, ALL NEW BRIO E MT, 2020</td>\n",
       "      <td>8/27/2024</td>\n",
       "      <td>Operational</td>\n",
       "      <td>3227000.0</td>\n",
       "      <td>186500000.0</td>\n",
       "    </tr>\n",
       "    <tr>\n",
       "      <th>30404</th>\n",
       "      <td>ZURISMIATI</td>\n",
       "      <td>HONDA DAAN MOGOT</td>\n",
       "      <td>HONDA, ALL NEW BRIO E CVT, 2022</td>\n",
       "      <td>11/15/2024</td>\n",
       "      <td>Operational</td>\n",
       "      <td>3703000.0</td>\n",
       "      <td>189700000.0</td>\n",
       "    </tr>\n",
       "    <tr>\n",
       "      <th>30405</th>\n",
       "      <td>ZWESTY DOLLY CORNELES</td>\n",
       "      <td>HONDA MARTADINATA 2 MANADO</td>\n",
       "      <td>HONDA, BRIO RS CVT , 2023</td>\n",
       "      <td>10/27/2024</td>\n",
       "      <td>Operational</td>\n",
       "      <td>4483000.0</td>\n",
       "      <td>264900000.0</td>\n",
       "    </tr>\n",
       "  </tbody>\n",
       "</table>\n",
       "<p>30406 rows × 7 columns</p>\n",
       "</div>"
      ],
      "text/plain": [
       "                        customer_name                 dealer_name  \\\n",
       "0                          AMRUL QOIS             HYUNDAI MAMPANG   \n",
       "1                    AZIZATUL MUNIFAH           HONDA MANDALASENA   \n",
       "2       BHARATH SRINIVASAN SETHURAMAN         HONDA MANDIRI BOGOR   \n",
       "3                            MARSUDIN              HONDA CIKARANG   \n",
       "4               NI NYOMAN PUJI ASTUTI       HONDA BINTANG TABANAN   \n",
       "...                               ...                         ...   \n",
       "30401                    ZURAIDA,S.PD              HONDA AUTOBEST   \n",
       "30402                      ZURDALENIS          HONDA WILTOP JAMBI   \n",
       "30403                       ZURDEWAN       HONDA ARISTA PEKANBARU   \n",
       "30404                      ZURISMIATI            HONDA DAAN MOGOT   \n",
       "30405           ZWESTY DOLLY CORNELES  HONDA MARTADINATA 2 MANADO   \n",
       "\n",
       "                                        unit_description    due_date  \\\n",
       "0         HYUNDAI, CRETA PRIME 1.5 SINGLE TONE IVT, 2022  10/27/2024   \n",
       "1                        HONDA, ALL NEW BR-V E CVT, 2023  11/10/2024   \n",
       "2            HONDA, ALL NEW CRV 1.5 TURBO PRESTIGE, 2022  11/15/2024   \n",
       "3             HONDA, ALL NEW CITY HATCHBACK RS CVT, 2021  10/27/2024   \n",
       "4                        HONDA, ALL NEW BRIO E CVT, 2024  11/25/2024   \n",
       "...                                                  ...         ...   \n",
       "30401  HONDA, HONDA JAZZ E RS MT 2012(ASURANSI CAPITA...         NaN   \n",
       "30402                  HONDA, ALL NEW BRV PRESTIGE, 2022   9/27/2024   \n",
       "30403                     HONDA, ALL NEW BRIO E MT, 2020   8/27/2024   \n",
       "30404                    HONDA, ALL NEW BRIO E CVT, 2022  11/15/2024   \n",
       "30405                          HONDA, BRIO RS CVT , 2023  10/27/2024   \n",
       "\n",
       "            status  installment   cost_price  \n",
       "0      Operational    8085000.0  404000000.0  \n",
       "1      Operational    4858000.0  330450000.0  \n",
       "2      Operational    9266000.0  653400000.0  \n",
       "3      Operational    5881000.0  302000000.0  \n",
       "4      Operational    6946000.0  228200000.0  \n",
       "...            ...          ...          ...  \n",
       "30401   Incomplete    5325000.0  215000000.0  \n",
       "30402  Operational    6864000.0  360500000.0  \n",
       "30403  Operational    3227000.0  186500000.0  \n",
       "30404  Operational    3703000.0  189700000.0  \n",
       "30405  Operational    4483000.0  264900000.0  \n",
       "\n",
       "[30406 rows x 7 columns]"
      ]
     },
     "execution_count": 16,
     "metadata": {},
     "output_type": "execute_result"
    }
   ],
   "source": [
    "# Check it again\n",
    "df"
   ]
  },
  {
   "cell_type": "markdown",
   "id": "1b83345f",
   "metadata": {},
   "source": [
    "Now let's continue to fix all the rest of col dtypes."
   ]
  },
  {
   "cell_type": "code",
   "execution_count": 17,
   "id": "f9785e1d",
   "metadata": {},
   "outputs": [
    {
     "name": "stdout",
     "output_type": "stream",
     "text": [
      "Below is the corrected dtypes for the data.\n"
     ]
    },
    {
     "data": {
      "text/plain": [
       "customer_name       string[python]\n",
       "dealer_name         string[python]\n",
       "unit_description    string[python]\n",
       "due_date            datetime64[ns]\n",
       "status                    category\n",
       "installment                float64\n",
       "cost_price                 float64\n",
       "dtype: object"
      ]
     },
     "execution_count": 17,
     "metadata": {},
     "output_type": "execute_result"
    }
   ],
   "source": [
    "df['status'] = df['status'].astype('category')\n",
    "df['due_date'] = pd.to_datetime(df['due_date'])\n",
    "\n",
    "# str col map\n",
    "str_cols = ['customer_name', 'dealer_name', 'unit_description']\n",
    "for col in str_cols:\n",
    "    df[col] = df[col].astype('string')\n",
    "\n",
    "print(f\"Below is the corrected dtypes for the data.\")\n",
    "df.dtypes"
   ]
  },
  {
   "cell_type": "markdown",
   "id": "2449fafc",
   "metadata": {},
   "source": [
    "Now let's check any leading or trailing whitespaces within the string columns."
   ]
  },
  {
   "cell_type": "code",
   "execution_count": 18,
   "id": "d6d2cce7",
   "metadata": {},
   "outputs": [
    {
     "name": "stdout",
     "output_type": "stream",
     "text": [
      "Checking the `customer_name` column\n",
      "<StringArray>\n",
      "[                     ' AMRUL QOIS',                ' AZIZATUL MUNIFAH',\n",
      "   ' BHARATH SRINIVASAN SETHURAMAN',                        ' MARSUDIN',\n",
      "           ' NI NYOMAN PUJI ASTUTI',                  'A AISYAH DAHLAN',\n",
      "                 'A AUDY RISMAN,SH',              'A BADRU JAMAN, S.Tr',\n",
      " 'A CEMPAKA MBOJO DANOPA, A.Md.Keu',                    'A DONI WIBOWO',\n",
      " ...\n",
      "                         'ZULPIKAR',                  'ZULTIFADLI SYAM',\n",
      "                 'ZULVICKAR GUSMAN',                          'ZUMIRA ',\n",
      "                         'ZUMROTUN',                     'ZURAIDA,S.PD',\n",
      "                       'ZURDALENIS',                        'ZURDEWAN ',\n",
      "                       'ZURISMIATI',            'ZWESTY DOLLY CORNELES']\n",
      "Length: 27212, dtype: string\n",
      "Checking the `dealer_name` column\n",
      "<StringArray>\n",
      "[                       'HYUNDAI MAMPANG',\n",
      "                      'HONDA MANDALASENA',\n",
      "                    'HONDA MANDIRI BOGOR',\n",
      "                         'HONDA CIKARANG',\n",
      "                  'HONDA BINTANG TABANAN',\n",
      "                    'HONDA HASYIM ASHARI',\n",
      "                   'HONDA JAKARTA CENTER',\n",
      "               'HONDA MUGEN PASAR MINGGU',\n",
      "                      'HONDA KEBON JERUK',\n",
      "                      'NAVA SUKSES MOTOR',\n",
      " ...\n",
      "                       'PODOMORO OTO 568',\n",
      "                             'LANDCAR.ID',\n",
      "                 'AUTO SUCCESS MOBILINDO',\n",
      " 'INT - UCD TANGERANG - SIGIT DARMAWULAN',\n",
      "                      'DUA BERLIAN MOTOR',\n",
      "                      'CARSTAR MOBILINDO',\n",
      "                    'NICO JAYA MOBILINDO',\n",
      "                        'FAITH AUTO CARS',\n",
      "                           'UKKAS GARAGE',\n",
      "                'HYUNDAI ARISTA BENGKULU']\n",
      "Length: 1307, dtype: string\n",
      "Checking the `unit_description` column\n",
      "<StringArray>\n",
      "[                       'HYUNDAI, CRETA PRIME 1.5 SINGLE TONE IVT, 2022',\n",
      "                                       'HONDA, ALL NEW BR-V E CVT, 2023',\n",
      "                           'HONDA, ALL NEW CRV 1.5 TURBO PRESTIGE, 2022',\n",
      "                            'HONDA, ALL NEW CITY HATCHBACK RS CVT, 2021',\n",
      "                                       'HONDA, ALL NEW BRIO E CVT, 2024',\n",
      "                                           'HONDA, CITY HB RS CVT, 2022',\n",
      "                                 'HONDA, ALL NEW BR-V HS PRESTIGE, 2022',\n",
      "                                       'HONDA, ALL NEW BRIO E CVT, 2022',\n",
      "                                       'HONDA, ALL NEW BRIO E CVT, 2023',\n",
      "                                         'HONDA, BRIO SATYA E CVT, 2021',\n",
      " ...\n",
      "                                  'MITSUBISHI, XPANDER EXCEED A/T, 2019',\n",
      "                                'HONDA, HONDA ODYSSEY 2.4 AT 2012, 2012',\n",
      "                                   'DAIHATSU, NEW XENIA 1.3 R M/T, 2012',\n",
      "                           'MITSUBISHI, PAJERO SPORT DAKAR 4X2 AT, 2018',\n",
      "                                'DAIHATSU, ALL NEW SIRION 1.3 A/T, 2012',\n",
      "                                   'HONDA, HONDA FREED SD AT 2013, 2013',\n",
      "                              'TOYOTA, NEW FORTUNER 2.5 G 4X2 A/T, 2014',\n",
      "                                   'SUZUKI, CARRY PICK UP 1.5 M/T, 2021',\n",
      "                                  'NISSAN, NEW X-TRAIL 2.5 XT CVT, 2010',\n",
      " 'HONDA, HONDA JAZZ E RS MT 2012(ASURANSI CAPITALIZED 10.320.000), 2012']\n",
      "Length: 4198, dtype: string\n"
     ]
    }
   ],
   "source": [
    "print(f\"Checking the `customer_name` column\")\n",
    "print(df['customer_name'].unique())\n",
    "print(f\"Checking the `dealer_name` column\")\n",
    "print(df['dealer_name'].unique())\n",
    "print(f\"Checking the `unit_description` column\")\n",
    "print(df['unit_description'].unique())"
   ]
  },
  {
   "cell_type": "code",
   "execution_count": 19,
   "id": "ff8287d1",
   "metadata": {},
   "outputs": [
    {
     "name": "stdout",
     "output_type": "stream",
     "text": [
      "No more leading/trailing whitespaces.\n",
      "<StringArray>\n",
      "[                      'AMRUL QOIS',                 'AZIZATUL MUNIFAH',\n",
      "    'BHARATH SRINIVASAN SETHURAMAN',                         'MARSUDIN',\n",
      "            'NI NYOMAN PUJI ASTUTI',                  'A AISYAH DAHLAN',\n",
      "                 'A AUDY RISMAN,SH',              'A BADRU JAMAN, S.Tr',\n",
      " 'A CEMPAKA MBOJO DANOPA, A.Md.Keu',                    'A DONI WIBOWO',\n",
      " ...\n",
      "                         'ZULPIKAR',                  'ZULTIFADLI SYAM',\n",
      "                 'ZULVICKAR GUSMAN',                           'ZUMIRA',\n",
      "                         'ZUMROTUN',                     'ZURAIDA,S.PD',\n",
      "                       'ZURDALENIS',                         'ZURDEWAN',\n",
      "                       'ZURISMIATI',            'ZWESTY DOLLY CORNELES']\n",
      "Length: 27148, dtype: string\n"
     ]
    }
   ],
   "source": [
    "# Remove any leading and trailing whitespace\n",
    "df['customer_name'] = df['customer_name'].str.strip()\n",
    "print(f\"No more leading/trailing whitespaces.\")\n",
    "print(df['customer_name'].unique())\n",
    "df['dealer_name'] = df['dealer_name'].str.strip()\n",
    "df['unit_description'] = df['unit_description'].str.strip()"
   ]
  },
  {
   "cell_type": "markdown",
   "id": "1b109efc",
   "metadata": {},
   "source": [
    "To get a cleaner data, any title mentioned within the name data usually have to be removed due to a cleaner data governance, but perhaps for now I'll just leave it be."
   ]
  },
  {
   "cell_type": "markdown",
   "id": "bec9b6de",
   "metadata": {},
   "source": [
    "Now let's continue on data manipulation, breaking the `unit_description` into 3 separated columns (brand_name, type_car, year_of_car), I'll split it using the comma separator that's already within each value."
   ]
  },
  {
   "cell_type": "code",
   "execution_count": 20,
   "id": "bab818b3",
   "metadata": {},
   "outputs": [
    {
     "data": {
      "text/plain": [
       "0           HYUNDAI, CRETA PRIME 1.5 SINGLE TONE IVT, 2022\n",
       "1                          HONDA, ALL NEW BR-V E CVT, 2023\n",
       "2              HONDA, ALL NEW CRV 1.5 TURBO PRESTIGE, 2022\n",
       "3               HONDA, ALL NEW CITY HATCHBACK RS CVT, 2021\n",
       "4                          HONDA, ALL NEW BRIO E CVT, 2024\n",
       "                               ...                        \n",
       "30401    HONDA, HONDA JAZZ E RS MT 2012(ASURANSI CAPITA...\n",
       "30402                    HONDA, ALL NEW BRV PRESTIGE, 2022\n",
       "30403                       HONDA, ALL NEW BRIO E MT, 2020\n",
       "30404                      HONDA, ALL NEW BRIO E CVT, 2022\n",
       "30405                            HONDA, BRIO RS CVT , 2023\n",
       "Name: unit_description, Length: 30406, dtype: string"
      ]
     },
     "execution_count": 20,
     "metadata": {},
     "output_type": "execute_result"
    }
   ],
   "source": [
    "df['unit_description']"
   ]
  },
  {
   "cell_type": "code",
   "execution_count": 21,
   "id": "80b97dbb",
   "metadata": {},
   "outputs": [
    {
     "data": {
      "text/html": [
       "<div>\n",
       "<style scoped>\n",
       "    .dataframe tbody tr th:only-of-type {\n",
       "        vertical-align: middle;\n",
       "    }\n",
       "\n",
       "    .dataframe tbody tr th {\n",
       "        vertical-align: top;\n",
       "    }\n",
       "\n",
       "    .dataframe thead th {\n",
       "        text-align: right;\n",
       "    }\n",
       "</style>\n",
       "<table border=\"1\" class=\"dataframe\">\n",
       "  <thead>\n",
       "    <tr style=\"text-align: right;\">\n",
       "      <th></th>\n",
       "      <th>0</th>\n",
       "      <th>1</th>\n",
       "      <th>2</th>\n",
       "      <th>3</th>\n",
       "      <th>4</th>\n",
       "    </tr>\n",
       "  </thead>\n",
       "  <tbody>\n",
       "    <tr>\n",
       "      <th>0</th>\n",
       "      <td>HYUNDAI</td>\n",
       "      <td>CRETA PRIME 1.5 SINGLE TONE IVT</td>\n",
       "      <td>2022</td>\n",
       "      <td>&lt;NA&gt;</td>\n",
       "      <td>&lt;NA&gt;</td>\n",
       "    </tr>\n",
       "    <tr>\n",
       "      <th>1</th>\n",
       "      <td>HONDA</td>\n",
       "      <td>ALL NEW BR-V E CVT</td>\n",
       "      <td>2023</td>\n",
       "      <td>&lt;NA&gt;</td>\n",
       "      <td>&lt;NA&gt;</td>\n",
       "    </tr>\n",
       "    <tr>\n",
       "      <th>2</th>\n",
       "      <td>HONDA</td>\n",
       "      <td>ALL NEW CRV 1.5 TURBO PRESTIGE</td>\n",
       "      <td>2022</td>\n",
       "      <td>&lt;NA&gt;</td>\n",
       "      <td>&lt;NA&gt;</td>\n",
       "    </tr>\n",
       "    <tr>\n",
       "      <th>3</th>\n",
       "      <td>HONDA</td>\n",
       "      <td>ALL NEW CITY HATCHBACK RS CVT</td>\n",
       "      <td>2021</td>\n",
       "      <td>&lt;NA&gt;</td>\n",
       "      <td>&lt;NA&gt;</td>\n",
       "    </tr>\n",
       "    <tr>\n",
       "      <th>4</th>\n",
       "      <td>HONDA</td>\n",
       "      <td>ALL NEW BRIO E CVT</td>\n",
       "      <td>2024</td>\n",
       "      <td>&lt;NA&gt;</td>\n",
       "      <td>&lt;NA&gt;</td>\n",
       "    </tr>\n",
       "    <tr>\n",
       "      <th>...</th>\n",
       "      <td>...</td>\n",
       "      <td>...</td>\n",
       "      <td>...</td>\n",
       "      <td>...</td>\n",
       "      <td>...</td>\n",
       "    </tr>\n",
       "    <tr>\n",
       "      <th>30401</th>\n",
       "      <td>HONDA</td>\n",
       "      <td>HONDA JAZZ E RS MT 2012(ASURANSI CAPITALIZED ...</td>\n",
       "      <td>2012</td>\n",
       "      <td>&lt;NA&gt;</td>\n",
       "      <td>&lt;NA&gt;</td>\n",
       "    </tr>\n",
       "    <tr>\n",
       "      <th>30402</th>\n",
       "      <td>HONDA</td>\n",
       "      <td>ALL NEW BRV PRESTIGE</td>\n",
       "      <td>2022</td>\n",
       "      <td>&lt;NA&gt;</td>\n",
       "      <td>&lt;NA&gt;</td>\n",
       "    </tr>\n",
       "    <tr>\n",
       "      <th>30403</th>\n",
       "      <td>HONDA</td>\n",
       "      <td>ALL NEW BRIO E MT</td>\n",
       "      <td>2020</td>\n",
       "      <td>&lt;NA&gt;</td>\n",
       "      <td>&lt;NA&gt;</td>\n",
       "    </tr>\n",
       "    <tr>\n",
       "      <th>30404</th>\n",
       "      <td>HONDA</td>\n",
       "      <td>ALL NEW BRIO E CVT</td>\n",
       "      <td>2022</td>\n",
       "      <td>&lt;NA&gt;</td>\n",
       "      <td>&lt;NA&gt;</td>\n",
       "    </tr>\n",
       "    <tr>\n",
       "      <th>30405</th>\n",
       "      <td>HONDA</td>\n",
       "      <td>BRIO RS CVT</td>\n",
       "      <td>2023</td>\n",
       "      <td>&lt;NA&gt;</td>\n",
       "      <td>&lt;NA&gt;</td>\n",
       "    </tr>\n",
       "  </tbody>\n",
       "</table>\n",
       "<p>30406 rows × 5 columns</p>\n",
       "</div>"
      ],
      "text/plain": [
       "             0                                                  1      2  \\\n",
       "0      HYUNDAI                    CRETA PRIME 1.5 SINGLE TONE IVT   2022   \n",
       "1        HONDA                                 ALL NEW BR-V E CVT   2023   \n",
       "2        HONDA                     ALL NEW CRV 1.5 TURBO PRESTIGE   2022   \n",
       "3        HONDA                      ALL NEW CITY HATCHBACK RS CVT   2021   \n",
       "4        HONDA                                 ALL NEW BRIO E CVT   2024   \n",
       "...        ...                                                ...    ...   \n",
       "30401    HONDA   HONDA JAZZ E RS MT 2012(ASURANSI CAPITALIZED ...   2012   \n",
       "30402    HONDA                               ALL NEW BRV PRESTIGE   2022   \n",
       "30403    HONDA                                  ALL NEW BRIO E MT   2020   \n",
       "30404    HONDA                                 ALL NEW BRIO E CVT   2022   \n",
       "30405    HONDA                                       BRIO RS CVT    2023   \n",
       "\n",
       "          3     4  \n",
       "0      <NA>  <NA>  \n",
       "1      <NA>  <NA>  \n",
       "2      <NA>  <NA>  \n",
       "3      <NA>  <NA>  \n",
       "4      <NA>  <NA>  \n",
       "...     ...   ...  \n",
       "30401  <NA>  <NA>  \n",
       "30402  <NA>  <NA>  \n",
       "30403  <NA>  <NA>  \n",
       "30404  <NA>  <NA>  \n",
       "30405  <NA>  <NA>  \n",
       "\n",
       "[30406 rows x 5 columns]"
      ]
     },
     "execution_count": 21,
     "metadata": {},
     "output_type": "execute_result"
    }
   ],
   "source": [
    "# Split the data \n",
    "new_columns = df['unit_description'].str.split(',', expand=True)\n",
    "new_columns"
   ]
  },
  {
   "cell_type": "markdown",
   "id": "977e480e",
   "metadata": {},
   "source": [
    "I'll pick the first to the third col as the new columns"
   ]
  },
  {
   "cell_type": "code",
   "execution_count": 22,
   "id": "d3da4372",
   "metadata": {},
   "outputs": [
    {
     "data": {
      "text/html": [
       "<div>\n",
       "<style scoped>\n",
       "    .dataframe tbody tr th:only-of-type {\n",
       "        vertical-align: middle;\n",
       "    }\n",
       "\n",
       "    .dataframe tbody tr th {\n",
       "        vertical-align: top;\n",
       "    }\n",
       "\n",
       "    .dataframe thead th {\n",
       "        text-align: right;\n",
       "    }\n",
       "</style>\n",
       "<table border=\"1\" class=\"dataframe\">\n",
       "  <thead>\n",
       "    <tr style=\"text-align: right;\">\n",
       "      <th></th>\n",
       "      <th>customer_name</th>\n",
       "      <th>dealer_name</th>\n",
       "      <th>unit_description</th>\n",
       "      <th>due_date</th>\n",
       "      <th>status</th>\n",
       "      <th>installment</th>\n",
       "      <th>cost_price</th>\n",
       "      <th>brand_name</th>\n",
       "      <th>type_car</th>\n",
       "      <th>year_of_car</th>\n",
       "    </tr>\n",
       "  </thead>\n",
       "  <tbody>\n",
       "    <tr>\n",
       "      <th>0</th>\n",
       "      <td>AMRUL QOIS</td>\n",
       "      <td>HYUNDAI MAMPANG</td>\n",
       "      <td>HYUNDAI, CRETA PRIME 1.5 SINGLE TONE IVT, 2022</td>\n",
       "      <td>2024-10-27</td>\n",
       "      <td>Operational</td>\n",
       "      <td>8085000.0</td>\n",
       "      <td>404000000.0</td>\n",
       "      <td>HYUNDAI</td>\n",
       "      <td>CRETA PRIME 1.5 SINGLE TONE IVT</td>\n",
       "      <td>2022</td>\n",
       "    </tr>\n",
       "    <tr>\n",
       "      <th>1</th>\n",
       "      <td>AZIZATUL MUNIFAH</td>\n",
       "      <td>HONDA MANDALASENA</td>\n",
       "      <td>HONDA, ALL NEW BR-V E CVT, 2023</td>\n",
       "      <td>2024-11-10</td>\n",
       "      <td>Operational</td>\n",
       "      <td>4858000.0</td>\n",
       "      <td>330450000.0</td>\n",
       "      <td>HONDA</td>\n",
       "      <td>ALL NEW BR-V E CVT</td>\n",
       "      <td>2023</td>\n",
       "    </tr>\n",
       "    <tr>\n",
       "      <th>2</th>\n",
       "      <td>BHARATH SRINIVASAN SETHURAMAN</td>\n",
       "      <td>HONDA MANDIRI BOGOR</td>\n",
       "      <td>HONDA, ALL NEW CRV 1.5 TURBO PRESTIGE, 2022</td>\n",
       "      <td>2024-11-15</td>\n",
       "      <td>Operational</td>\n",
       "      <td>9266000.0</td>\n",
       "      <td>653400000.0</td>\n",
       "      <td>HONDA</td>\n",
       "      <td>ALL NEW CRV 1.5 TURBO PRESTIGE</td>\n",
       "      <td>2022</td>\n",
       "    </tr>\n",
       "    <tr>\n",
       "      <th>3</th>\n",
       "      <td>MARSUDIN</td>\n",
       "      <td>HONDA CIKARANG</td>\n",
       "      <td>HONDA, ALL NEW CITY HATCHBACK RS CVT, 2021</td>\n",
       "      <td>2024-10-27</td>\n",
       "      <td>Operational</td>\n",
       "      <td>5881000.0</td>\n",
       "      <td>302000000.0</td>\n",
       "      <td>HONDA</td>\n",
       "      <td>ALL NEW CITY HATCHBACK RS CVT</td>\n",
       "      <td>2021</td>\n",
       "    </tr>\n",
       "    <tr>\n",
       "      <th>4</th>\n",
       "      <td>NI NYOMAN PUJI ASTUTI</td>\n",
       "      <td>HONDA BINTANG TABANAN</td>\n",
       "      <td>HONDA, ALL NEW BRIO E CVT, 2024</td>\n",
       "      <td>2024-11-25</td>\n",
       "      <td>Operational</td>\n",
       "      <td>6946000.0</td>\n",
       "      <td>228200000.0</td>\n",
       "      <td>HONDA</td>\n",
       "      <td>ALL NEW BRIO E CVT</td>\n",
       "      <td>2024</td>\n",
       "    </tr>\n",
       "    <tr>\n",
       "      <th>...</th>\n",
       "      <td>...</td>\n",
       "      <td>...</td>\n",
       "      <td>...</td>\n",
       "      <td>...</td>\n",
       "      <td>...</td>\n",
       "      <td>...</td>\n",
       "      <td>...</td>\n",
       "      <td>...</td>\n",
       "      <td>...</td>\n",
       "      <td>...</td>\n",
       "    </tr>\n",
       "    <tr>\n",
       "      <th>30401</th>\n",
       "      <td>ZURAIDA,S.PD</td>\n",
       "      <td>HONDA AUTOBEST</td>\n",
       "      <td>HONDA, HONDA JAZZ E RS MT 2012(ASURANSI CAPITA...</td>\n",
       "      <td>NaT</td>\n",
       "      <td>Incomplete</td>\n",
       "      <td>5325000.0</td>\n",
       "      <td>215000000.0</td>\n",
       "      <td>HONDA</td>\n",
       "      <td>HONDA JAZZ E RS MT 2012(ASURANSI CAPITALIZED ...</td>\n",
       "      <td>2012</td>\n",
       "    </tr>\n",
       "    <tr>\n",
       "      <th>30402</th>\n",
       "      <td>ZURDALENIS</td>\n",
       "      <td>HONDA WILTOP JAMBI</td>\n",
       "      <td>HONDA, ALL NEW BRV PRESTIGE, 2022</td>\n",
       "      <td>2024-09-27</td>\n",
       "      <td>Operational</td>\n",
       "      <td>6864000.0</td>\n",
       "      <td>360500000.0</td>\n",
       "      <td>HONDA</td>\n",
       "      <td>ALL NEW BRV PRESTIGE</td>\n",
       "      <td>2022</td>\n",
       "    </tr>\n",
       "    <tr>\n",
       "      <th>30403</th>\n",
       "      <td>ZURDEWAN</td>\n",
       "      <td>HONDA ARISTA PEKANBARU</td>\n",
       "      <td>HONDA, ALL NEW BRIO E MT, 2020</td>\n",
       "      <td>2024-08-27</td>\n",
       "      <td>Operational</td>\n",
       "      <td>3227000.0</td>\n",
       "      <td>186500000.0</td>\n",
       "      <td>HONDA</td>\n",
       "      <td>ALL NEW BRIO E MT</td>\n",
       "      <td>2020</td>\n",
       "    </tr>\n",
       "    <tr>\n",
       "      <th>30404</th>\n",
       "      <td>ZURISMIATI</td>\n",
       "      <td>HONDA DAAN MOGOT</td>\n",
       "      <td>HONDA, ALL NEW BRIO E CVT, 2022</td>\n",
       "      <td>2024-11-15</td>\n",
       "      <td>Operational</td>\n",
       "      <td>3703000.0</td>\n",
       "      <td>189700000.0</td>\n",
       "      <td>HONDA</td>\n",
       "      <td>ALL NEW BRIO E CVT</td>\n",
       "      <td>2022</td>\n",
       "    </tr>\n",
       "    <tr>\n",
       "      <th>30405</th>\n",
       "      <td>ZWESTY DOLLY CORNELES</td>\n",
       "      <td>HONDA MARTADINATA 2 MANADO</td>\n",
       "      <td>HONDA, BRIO RS CVT , 2023</td>\n",
       "      <td>2024-10-27</td>\n",
       "      <td>Operational</td>\n",
       "      <td>4483000.0</td>\n",
       "      <td>264900000.0</td>\n",
       "      <td>HONDA</td>\n",
       "      <td>BRIO RS CVT</td>\n",
       "      <td>2023</td>\n",
       "    </tr>\n",
       "  </tbody>\n",
       "</table>\n",
       "<p>30406 rows × 10 columns</p>\n",
       "</div>"
      ],
      "text/plain": [
       "                       customer_name                 dealer_name  \\\n",
       "0                         AMRUL QOIS             HYUNDAI MAMPANG   \n",
       "1                   AZIZATUL MUNIFAH           HONDA MANDALASENA   \n",
       "2      BHARATH SRINIVASAN SETHURAMAN         HONDA MANDIRI BOGOR   \n",
       "3                           MARSUDIN              HONDA CIKARANG   \n",
       "4              NI NYOMAN PUJI ASTUTI       HONDA BINTANG TABANAN   \n",
       "...                              ...                         ...   \n",
       "30401                   ZURAIDA,S.PD              HONDA AUTOBEST   \n",
       "30402                     ZURDALENIS          HONDA WILTOP JAMBI   \n",
       "30403                       ZURDEWAN      HONDA ARISTA PEKANBARU   \n",
       "30404                     ZURISMIATI            HONDA DAAN MOGOT   \n",
       "30405          ZWESTY DOLLY CORNELES  HONDA MARTADINATA 2 MANADO   \n",
       "\n",
       "                                        unit_description   due_date  \\\n",
       "0         HYUNDAI, CRETA PRIME 1.5 SINGLE TONE IVT, 2022 2024-10-27   \n",
       "1                        HONDA, ALL NEW BR-V E CVT, 2023 2024-11-10   \n",
       "2            HONDA, ALL NEW CRV 1.5 TURBO PRESTIGE, 2022 2024-11-15   \n",
       "3             HONDA, ALL NEW CITY HATCHBACK RS CVT, 2021 2024-10-27   \n",
       "4                        HONDA, ALL NEW BRIO E CVT, 2024 2024-11-25   \n",
       "...                                                  ...        ...   \n",
       "30401  HONDA, HONDA JAZZ E RS MT 2012(ASURANSI CAPITA...        NaT   \n",
       "30402                  HONDA, ALL NEW BRV PRESTIGE, 2022 2024-09-27   \n",
       "30403                     HONDA, ALL NEW BRIO E MT, 2020 2024-08-27   \n",
       "30404                    HONDA, ALL NEW BRIO E CVT, 2022 2024-11-15   \n",
       "30405                          HONDA, BRIO RS CVT , 2023 2024-10-27   \n",
       "\n",
       "            status  installment   cost_price brand_name  \\\n",
       "0      Operational    8085000.0  404000000.0    HYUNDAI   \n",
       "1      Operational    4858000.0  330450000.0      HONDA   \n",
       "2      Operational    9266000.0  653400000.0      HONDA   \n",
       "3      Operational    5881000.0  302000000.0      HONDA   \n",
       "4      Operational    6946000.0  228200000.0      HONDA   \n",
       "...            ...          ...          ...        ...   \n",
       "30401   Incomplete    5325000.0  215000000.0      HONDA   \n",
       "30402  Operational    6864000.0  360500000.0      HONDA   \n",
       "30403  Operational    3227000.0  186500000.0      HONDA   \n",
       "30404  Operational    3703000.0  189700000.0      HONDA   \n",
       "30405  Operational    4483000.0  264900000.0      HONDA   \n",
       "\n",
       "                                                type_car year_of_car  \n",
       "0                        CRETA PRIME 1.5 SINGLE TONE IVT        2022  \n",
       "1                                     ALL NEW BR-V E CVT        2023  \n",
       "2                         ALL NEW CRV 1.5 TURBO PRESTIGE        2022  \n",
       "3                          ALL NEW CITY HATCHBACK RS CVT        2021  \n",
       "4                                     ALL NEW BRIO E CVT        2024  \n",
       "...                                                  ...         ...  \n",
       "30401   HONDA JAZZ E RS MT 2012(ASURANSI CAPITALIZED ...        2012  \n",
       "30402                               ALL NEW BRV PRESTIGE        2022  \n",
       "30403                                  ALL NEW BRIO E MT        2020  \n",
       "30404                                 ALL NEW BRIO E CVT        2022  \n",
       "30405                                       BRIO RS CVT         2023  \n",
       "\n",
       "[30406 rows x 10 columns]"
      ]
     },
     "execution_count": 22,
     "metadata": {},
     "output_type": "execute_result"
    }
   ],
   "source": [
    "df['brand_name'] = new_columns[0]\n",
    "df['type_car'] = new_columns[1]\n",
    "df['year_of_car'] = new_columns[2]\n",
    "\n",
    "df"
   ]
  },
  {
   "cell_type": "code",
   "execution_count": 23,
   "id": "8b043e91",
   "metadata": {},
   "outputs": [
    {
     "data": {
      "text/plain": [
       "customer_name       string[python]\n",
       "dealer_name         string[python]\n",
       "unit_description    string[python]\n",
       "due_date            datetime64[ns]\n",
       "status                    category\n",
       "installment                float64\n",
       "cost_price                 float64\n",
       "brand_name          string[python]\n",
       "type_car            string[python]\n",
       "year_of_car         string[python]\n",
       "dtype: object"
      ]
     },
     "execution_count": 23,
     "metadata": {},
     "output_type": "execute_result"
    }
   ],
   "source": [
    "df.dtypes"
   ]
  },
  {
   "cell_type": "markdown",
   "id": "dfc07f19",
   "metadata": {},
   "source": [
    "I think that I'll change the brand dtype to categorical and leave the rest as string for now."
   ]
  },
  {
   "cell_type": "code",
   "execution_count": 24,
   "id": "a74ce043",
   "metadata": {},
   "outputs": [
    {
     "data": {
      "text/plain": [
       "customer_name       string[python]\n",
       "dealer_name         string[python]\n",
       "unit_description    string[python]\n",
       "due_date            datetime64[ns]\n",
       "status                    category\n",
       "installment                float64\n",
       "cost_price                 float64\n",
       "brand_name                category\n",
       "type_car            string[python]\n",
       "year_of_car         string[python]\n",
       "dtype: object"
      ]
     },
     "execution_count": 24,
     "metadata": {},
     "output_type": "execute_result"
    }
   ],
   "source": [
    "df['brand_name'] = df['brand_name'].astype('category')\n",
    "df.dtypes"
   ]
  },
  {
   "cell_type": "markdown",
   "id": "cdeb8ebd",
   "metadata": {},
   "source": [
    "Now let's continue on counting, the number of cars based on type car."
   ]
  },
  {
   "cell_type": "code",
   "execution_count": 25,
   "id": "49092f02",
   "metadata": {},
   "outputs": [
    {
     "name": "stdout",
     "output_type": "stream",
     "text": [
      "The number of cars based on its type is : 2027\n"
     ]
    }
   ],
   "source": [
    "num_of_cars = df['type_car'].nunique()\n",
    "print(f\"The number of cars based on its type is : {num_of_cars}\")"
   ]
  },
  {
   "cell_type": "markdown",
   "id": "73d1eb70",
   "metadata": {},
   "source": [
    "So the number of cars based on its type_car is 2027 units."
   ]
  },
  {
   "cell_type": "markdown",
   "id": "3eebe0f3",
   "metadata": {},
   "source": [
    "Now let's check the most expensive and the cheapest price of the car and its installment respectively."
   ]
  },
  {
   "cell_type": "code",
   "execution_count": 26,
   "id": "21af6614",
   "metadata": {},
   "outputs": [
    {
     "name": "stdout",
     "output_type": "stream",
     "text": [
      "----------------------------------------------------------------------\n",
      "Below is the table of the most expensive car price :\n",
      "----------------------------------------------------------------------\n",
      "customer_name                    PT. PARNA RAYA\n",
      "dealer_name                   PT PARNA RAYA_BDD\n",
      "unit_description    FERRARI, SF 90 SPIDER, 2022\n",
      "due_date                    2024-10-27 00:00:00\n",
      "status                              Operational\n",
      "installment                         375355000.0\n",
      "cost_price                        17500000000.0\n",
      "brand_name                              FERRARI\n",
      "type_car                           SF 90 SPIDER\n",
      "year_of_car                                2022\n",
      "Name: 20671, dtype: object\n",
      "----------------------------------------------------------------------\n",
      "Below is the table of the cheapest car price :\n",
      "----------------------------------------------------------------------\n",
      "customer_name                     PT. BINTANG AUTO SEMESTA\n",
      "dealer_name                                   HONDA CIMONE\n",
      "unit_description    FUSHENG, COMPRESSOR TA-80A (5HP), 2017\n",
      "due_date                                               NaT\n",
      "status                                          Incomplete\n",
      "installment                                       320000.0\n",
      "cost_price                                      11272727.0\n",
      "brand_name                                         FUSHENG\n",
      "type_car                           COMPRESSOR TA-80A (5HP)\n",
      "year_of_car                                           2017\n",
      "Name: 20199, dtype: object\n",
      "----------------------------------------------------------------------\n",
      "Below is the table of the most expensive car installment :\n",
      "----------------------------------------------------------------------\n",
      "customer_name          PT. BATAVIA PROSPERINDO TRANS TBK\n",
      "dealer_name               MITSUBISHI SRIKANDI SUNTER BDD\n",
      "unit_description    MITSUBISHI, XPANDER EXCEED CVT, 2023\n",
      "due_date                             2024-10-25 00:00:00\n",
      "status                                       Operational\n",
      "installment                                  782681940.0\n",
      "cost_price                                  2659000000.0\n",
      "brand_name                                    MITSUBISHI\n",
      "type_car                              XPANDER EXCEED CVT\n",
      "year_of_car                                         2023\n",
      "Name: 20152, dtype: object\n",
      "----------------------------------------------------------------------\n",
      "Below is the table of the cheapest car installment :\n",
      "----------------------------------------------------------------------\n",
      "customer_name                     PT. BINTANG AUTO SEMESTA\n",
      "dealer_name                                   HONDA CIMONE\n",
      "unit_description    FUSHENG, COMPRESSOR TA-80A (5HP), 2017\n",
      "due_date                                               NaT\n",
      "status                                          Incomplete\n",
      "installment                                       320000.0\n",
      "cost_price                                      11272727.0\n",
      "brand_name                                         FUSHENG\n",
      "type_car                           COMPRESSOR TA-80A (5HP)\n",
      "year_of_car                                           2017\n",
      "Name: 20199, dtype: object\n",
      "----------------------------------------------------------------------\n"
     ]
    }
   ],
   "source": [
    "# Find the most expensive price's in car information \n",
    "print('----------' * 7)\n",
    "highest_car_price = df.loc[df['cost_price'].idxmax()]\n",
    "print(f\"Below is the table of the most expensive car price :\")\n",
    "print('----------' * 7)\n",
    "print(highest_car_price)\n",
    "print('----------' * 7)\n",
    "\n",
    "# Find the cheapest price's in car information\n",
    "cheapest_car_price = df.loc[df['cost_price'].idxmin()]\n",
    "print(f\"Below is the table of the cheapest car price :\")\n",
    "print('----------' * 7)\n",
    "print(cheapest_car_price)\n",
    "print('----------' * 7)\n",
    "\n",
    "# Find the most expensive installment in car information \n",
    "highest_car_installment = df.loc[df['installment'].idxmax()]\n",
    "print(f\"Below is the table of the most expensive car installment :\")\n",
    "print('----------' * 7)\n",
    "print(highest_car_installment)\n",
    "print('----------' * 7)\n",
    "\n",
    "# Find the cheapest installment in car information \n",
    "cheapest_car_installment = df.loc[df['installment'].idxmin()]\n",
    "print(f\"Below is the table of the cheapest car installment :\")\n",
    "print('----------' * 7)\n",
    "print(cheapest_car_installment)\n",
    "print('----------' * 7)"
   ]
  },
  {
   "cell_type": "markdown",
   "id": "4d40a57c",
   "metadata": {},
   "source": [
    "Now let's continue analyzing the dataset using EDA concept's."
   ]
  },
  {
   "cell_type": "markdown",
   "id": "243a1d64",
   "metadata": {},
   "source": [
    "Let's try to understand the data"
   ]
  },
  {
   "cell_type": "code",
   "execution_count": 27,
   "id": "02626d4a",
   "metadata": {},
   "outputs": [
    {
     "data": {
      "text/html": [
       "<div>\n",
       "<style scoped>\n",
       "    .dataframe tbody tr th:only-of-type {\n",
       "        vertical-align: middle;\n",
       "    }\n",
       "\n",
       "    .dataframe tbody tr th {\n",
       "        vertical-align: top;\n",
       "    }\n",
       "\n",
       "    .dataframe thead th {\n",
       "        text-align: right;\n",
       "    }\n",
       "</style>\n",
       "<table border=\"1\" class=\"dataframe\">\n",
       "  <thead>\n",
       "    <tr style=\"text-align: right;\">\n",
       "      <th></th>\n",
       "      <th>customer_name</th>\n",
       "      <th>dealer_name</th>\n",
       "      <th>unit_description</th>\n",
       "      <th>due_date</th>\n",
       "      <th>status</th>\n",
       "      <th>installment</th>\n",
       "      <th>cost_price</th>\n",
       "      <th>brand_name</th>\n",
       "      <th>type_car</th>\n",
       "      <th>year_of_car</th>\n",
       "    </tr>\n",
       "  </thead>\n",
       "  <tbody>\n",
       "    <tr>\n",
       "      <th>0</th>\n",
       "      <td>AMRUL QOIS</td>\n",
       "      <td>HYUNDAI MAMPANG</td>\n",
       "      <td>HYUNDAI, CRETA PRIME 1.5 SINGLE TONE IVT, 2022</td>\n",
       "      <td>2024-10-27</td>\n",
       "      <td>Operational</td>\n",
       "      <td>8085000.0</td>\n",
       "      <td>404000000.0</td>\n",
       "      <td>HYUNDAI</td>\n",
       "      <td>CRETA PRIME 1.5 SINGLE TONE IVT</td>\n",
       "      <td>2022</td>\n",
       "    </tr>\n",
       "    <tr>\n",
       "      <th>1</th>\n",
       "      <td>AZIZATUL MUNIFAH</td>\n",
       "      <td>HONDA MANDALASENA</td>\n",
       "      <td>HONDA, ALL NEW BR-V E CVT, 2023</td>\n",
       "      <td>2024-11-10</td>\n",
       "      <td>Operational</td>\n",
       "      <td>4858000.0</td>\n",
       "      <td>330450000.0</td>\n",
       "      <td>HONDA</td>\n",
       "      <td>ALL NEW BR-V E CVT</td>\n",
       "      <td>2023</td>\n",
       "    </tr>\n",
       "    <tr>\n",
       "      <th>2</th>\n",
       "      <td>BHARATH SRINIVASAN SETHURAMAN</td>\n",
       "      <td>HONDA MANDIRI BOGOR</td>\n",
       "      <td>HONDA, ALL NEW CRV 1.5 TURBO PRESTIGE, 2022</td>\n",
       "      <td>2024-11-15</td>\n",
       "      <td>Operational</td>\n",
       "      <td>9266000.0</td>\n",
       "      <td>653400000.0</td>\n",
       "      <td>HONDA</td>\n",
       "      <td>ALL NEW CRV 1.5 TURBO PRESTIGE</td>\n",
       "      <td>2022</td>\n",
       "    </tr>\n",
       "    <tr>\n",
       "      <th>3</th>\n",
       "      <td>MARSUDIN</td>\n",
       "      <td>HONDA CIKARANG</td>\n",
       "      <td>HONDA, ALL NEW CITY HATCHBACK RS CVT, 2021</td>\n",
       "      <td>2024-10-27</td>\n",
       "      <td>Operational</td>\n",
       "      <td>5881000.0</td>\n",
       "      <td>302000000.0</td>\n",
       "      <td>HONDA</td>\n",
       "      <td>ALL NEW CITY HATCHBACK RS CVT</td>\n",
       "      <td>2021</td>\n",
       "    </tr>\n",
       "    <tr>\n",
       "      <th>4</th>\n",
       "      <td>NI NYOMAN PUJI ASTUTI</td>\n",
       "      <td>HONDA BINTANG TABANAN</td>\n",
       "      <td>HONDA, ALL NEW BRIO E CVT, 2024</td>\n",
       "      <td>2024-11-25</td>\n",
       "      <td>Operational</td>\n",
       "      <td>6946000.0</td>\n",
       "      <td>228200000.0</td>\n",
       "      <td>HONDA</td>\n",
       "      <td>ALL NEW BRIO E CVT</td>\n",
       "      <td>2024</td>\n",
       "    </tr>\n",
       "  </tbody>\n",
       "</table>\n",
       "</div>"
      ],
      "text/plain": [
       "                   customer_name            dealer_name  \\\n",
       "0                     AMRUL QOIS        HYUNDAI MAMPANG   \n",
       "1               AZIZATUL MUNIFAH      HONDA MANDALASENA   \n",
       "2  BHARATH SRINIVASAN SETHURAMAN    HONDA MANDIRI BOGOR   \n",
       "3                       MARSUDIN         HONDA CIKARANG   \n",
       "4          NI NYOMAN PUJI ASTUTI  HONDA BINTANG TABANAN   \n",
       "\n",
       "                                 unit_description   due_date       status  \\\n",
       "0  HYUNDAI, CRETA PRIME 1.5 SINGLE TONE IVT, 2022 2024-10-27  Operational   \n",
       "1                 HONDA, ALL NEW BR-V E CVT, 2023 2024-11-10  Operational   \n",
       "2     HONDA, ALL NEW CRV 1.5 TURBO PRESTIGE, 2022 2024-11-15  Operational   \n",
       "3      HONDA, ALL NEW CITY HATCHBACK RS CVT, 2021 2024-10-27  Operational   \n",
       "4                 HONDA, ALL NEW BRIO E CVT, 2024 2024-11-25  Operational   \n",
       "\n",
       "   installment   cost_price brand_name                          type_car  \\\n",
       "0    8085000.0  404000000.0    HYUNDAI   CRETA PRIME 1.5 SINGLE TONE IVT   \n",
       "1    4858000.0  330450000.0      HONDA                ALL NEW BR-V E CVT   \n",
       "2    9266000.0  653400000.0      HONDA    ALL NEW CRV 1.5 TURBO PRESTIGE   \n",
       "3    5881000.0  302000000.0      HONDA     ALL NEW CITY HATCHBACK RS CVT   \n",
       "4    6946000.0  228200000.0      HONDA                ALL NEW BRIO E CVT   \n",
       "\n",
       "  year_of_car  \n",
       "0        2022  \n",
       "1        2023  \n",
       "2        2022  \n",
       "3        2021  \n",
       "4        2024  "
      ]
     },
     "execution_count": 27,
     "metadata": {},
     "output_type": "execute_result"
    }
   ],
   "source": [
    "# Checking its first 5 rows\n",
    "df.head()"
   ]
  },
  {
   "cell_type": "code",
   "execution_count": 28,
   "id": "c1589b4d",
   "metadata": {},
   "outputs": [
    {
     "data": {
      "text/html": [
       "<div>\n",
       "<style scoped>\n",
       "    .dataframe tbody tr th:only-of-type {\n",
       "        vertical-align: middle;\n",
       "    }\n",
       "\n",
       "    .dataframe tbody tr th {\n",
       "        vertical-align: top;\n",
       "    }\n",
       "\n",
       "    .dataframe thead th {\n",
       "        text-align: right;\n",
       "    }\n",
       "</style>\n",
       "<table border=\"1\" class=\"dataframe\">\n",
       "  <thead>\n",
       "    <tr style=\"text-align: right;\">\n",
       "      <th></th>\n",
       "      <th>customer_name</th>\n",
       "      <th>dealer_name</th>\n",
       "      <th>unit_description</th>\n",
       "      <th>due_date</th>\n",
       "      <th>status</th>\n",
       "      <th>installment</th>\n",
       "      <th>cost_price</th>\n",
       "      <th>brand_name</th>\n",
       "      <th>type_car</th>\n",
       "      <th>year_of_car</th>\n",
       "    </tr>\n",
       "  </thead>\n",
       "  <tbody>\n",
       "    <tr>\n",
       "      <th>30401</th>\n",
       "      <td>ZURAIDA,S.PD</td>\n",
       "      <td>HONDA AUTOBEST</td>\n",
       "      <td>HONDA, HONDA JAZZ E RS MT 2012(ASURANSI CAPITA...</td>\n",
       "      <td>NaT</td>\n",
       "      <td>Incomplete</td>\n",
       "      <td>5325000.0</td>\n",
       "      <td>215000000.0</td>\n",
       "      <td>HONDA</td>\n",
       "      <td>HONDA JAZZ E RS MT 2012(ASURANSI CAPITALIZED ...</td>\n",
       "      <td>2012</td>\n",
       "    </tr>\n",
       "    <tr>\n",
       "      <th>30402</th>\n",
       "      <td>ZURDALENIS</td>\n",
       "      <td>HONDA WILTOP JAMBI</td>\n",
       "      <td>HONDA, ALL NEW BRV PRESTIGE, 2022</td>\n",
       "      <td>2024-09-27</td>\n",
       "      <td>Operational</td>\n",
       "      <td>6864000.0</td>\n",
       "      <td>360500000.0</td>\n",
       "      <td>HONDA</td>\n",
       "      <td>ALL NEW BRV PRESTIGE</td>\n",
       "      <td>2022</td>\n",
       "    </tr>\n",
       "    <tr>\n",
       "      <th>30403</th>\n",
       "      <td>ZURDEWAN</td>\n",
       "      <td>HONDA ARISTA PEKANBARU</td>\n",
       "      <td>HONDA, ALL NEW BRIO E MT, 2020</td>\n",
       "      <td>2024-08-27</td>\n",
       "      <td>Operational</td>\n",
       "      <td>3227000.0</td>\n",
       "      <td>186500000.0</td>\n",
       "      <td>HONDA</td>\n",
       "      <td>ALL NEW BRIO E MT</td>\n",
       "      <td>2020</td>\n",
       "    </tr>\n",
       "    <tr>\n",
       "      <th>30404</th>\n",
       "      <td>ZURISMIATI</td>\n",
       "      <td>HONDA DAAN MOGOT</td>\n",
       "      <td>HONDA, ALL NEW BRIO E CVT, 2022</td>\n",
       "      <td>2024-11-15</td>\n",
       "      <td>Operational</td>\n",
       "      <td>3703000.0</td>\n",
       "      <td>189700000.0</td>\n",
       "      <td>HONDA</td>\n",
       "      <td>ALL NEW BRIO E CVT</td>\n",
       "      <td>2022</td>\n",
       "    </tr>\n",
       "    <tr>\n",
       "      <th>30405</th>\n",
       "      <td>ZWESTY DOLLY CORNELES</td>\n",
       "      <td>HONDA MARTADINATA 2 MANADO</td>\n",
       "      <td>HONDA, BRIO RS CVT , 2023</td>\n",
       "      <td>2024-10-27</td>\n",
       "      <td>Operational</td>\n",
       "      <td>4483000.0</td>\n",
       "      <td>264900000.0</td>\n",
       "      <td>HONDA</td>\n",
       "      <td>BRIO RS CVT</td>\n",
       "      <td>2023</td>\n",
       "    </tr>\n",
       "  </tbody>\n",
       "</table>\n",
       "</div>"
      ],
      "text/plain": [
       "               customer_name                 dealer_name  \\\n",
       "30401           ZURAIDA,S.PD              HONDA AUTOBEST   \n",
       "30402             ZURDALENIS          HONDA WILTOP JAMBI   \n",
       "30403               ZURDEWAN      HONDA ARISTA PEKANBARU   \n",
       "30404             ZURISMIATI            HONDA DAAN MOGOT   \n",
       "30405  ZWESTY DOLLY CORNELES  HONDA MARTADINATA 2 MANADO   \n",
       "\n",
       "                                        unit_description   due_date  \\\n",
       "30401  HONDA, HONDA JAZZ E RS MT 2012(ASURANSI CAPITA...        NaT   \n",
       "30402                  HONDA, ALL NEW BRV PRESTIGE, 2022 2024-09-27   \n",
       "30403                     HONDA, ALL NEW BRIO E MT, 2020 2024-08-27   \n",
       "30404                    HONDA, ALL NEW BRIO E CVT, 2022 2024-11-15   \n",
       "30405                          HONDA, BRIO RS CVT , 2023 2024-10-27   \n",
       "\n",
       "            status  installment   cost_price brand_name  \\\n",
       "30401   Incomplete    5325000.0  215000000.0      HONDA   \n",
       "30402  Operational    6864000.0  360500000.0      HONDA   \n",
       "30403  Operational    3227000.0  186500000.0      HONDA   \n",
       "30404  Operational    3703000.0  189700000.0      HONDA   \n",
       "30405  Operational    4483000.0  264900000.0      HONDA   \n",
       "\n",
       "                                                type_car year_of_car  \n",
       "30401   HONDA JAZZ E RS MT 2012(ASURANSI CAPITALIZED ...        2012  \n",
       "30402                               ALL NEW BRV PRESTIGE        2022  \n",
       "30403                                  ALL NEW BRIO E MT        2020  \n",
       "30404                                 ALL NEW BRIO E CVT        2022  \n",
       "30405                                       BRIO RS CVT         2023  "
      ]
     },
     "execution_count": 28,
     "metadata": {},
     "output_type": "execute_result"
    }
   ],
   "source": [
    "# Checking its last 5 rows\n",
    "df.tail()"
   ]
  },
  {
   "cell_type": "code",
   "execution_count": 29,
   "id": "b5946192",
   "metadata": {},
   "outputs": [
    {
     "name": "stdout",
     "output_type": "stream",
     "text": [
      "<class 'pandas.core.frame.DataFrame'>\n",
      "RangeIndex: 30406 entries, 0 to 30405\n",
      "Data columns (total 10 columns):\n",
      " #   Column            Non-Null Count  Dtype         \n",
      "---  ------            --------------  -----         \n",
      " 0   customer_name     30406 non-null  string        \n",
      " 1   dealer_name       30406 non-null  string        \n",
      " 2   unit_description  30406 non-null  string        \n",
      " 3   due_date          28706 non-null  datetime64[ns]\n",
      " 4   status            30406 non-null  category      \n",
      " 5   installment       30406 non-null  float64       \n",
      " 6   cost_price        30406 non-null  float64       \n",
      " 7   brand_name        30406 non-null  category      \n",
      " 8   type_car          30406 non-null  string        \n",
      " 9   year_of_car       30406 non-null  string        \n",
      "dtypes: category(2), datetime64[ns](1), float64(2), string(5)\n",
      "memory usage: 1.9 MB\n"
     ]
    }
   ],
   "source": [
    "# Checking the brief information of the dataset\n",
    "df.info()"
   ]
  },
  {
   "cell_type": "code",
   "execution_count": 30,
   "id": "09c4d05b",
   "metadata": {},
   "outputs": [
    {
     "data": {
      "text/plain": [
       "(30406, 10)"
      ]
     },
     "execution_count": 30,
     "metadata": {},
     "output_type": "execute_result"
    }
   ],
   "source": [
    "# Checking the shape of the data (how many rows and columns?)\n",
    "df.shape"
   ]
  },
  {
   "cell_type": "code",
   "execution_count": 31,
   "id": "0aae5c32",
   "metadata": {},
   "outputs": [
    {
     "data": {
      "text/html": [
       "<div>\n",
       "<style scoped>\n",
       "    .dataframe tbody tr th:only-of-type {\n",
       "        vertical-align: middle;\n",
       "    }\n",
       "\n",
       "    .dataframe tbody tr th {\n",
       "        vertical-align: top;\n",
       "    }\n",
       "\n",
       "    .dataframe thead th {\n",
       "        text-align: right;\n",
       "    }\n",
       "</style>\n",
       "<table border=\"1\" class=\"dataframe\">\n",
       "  <thead>\n",
       "    <tr style=\"text-align: right;\">\n",
       "      <th></th>\n",
       "      <th>customer_name</th>\n",
       "      <th>dealer_name</th>\n",
       "      <th>unit_description</th>\n",
       "      <th>due_date</th>\n",
       "      <th>status</th>\n",
       "      <th>installment</th>\n",
       "      <th>cost_price</th>\n",
       "      <th>brand_name</th>\n",
       "      <th>type_car</th>\n",
       "      <th>year_of_car</th>\n",
       "    </tr>\n",
       "  </thead>\n",
       "  <tbody>\n",
       "    <tr>\n",
       "      <th>count</th>\n",
       "      <td>30406</td>\n",
       "      <td>30406</td>\n",
       "      <td>30406</td>\n",
       "      <td>28706</td>\n",
       "      <td>30406</td>\n",
       "      <td>3.040600e+04</td>\n",
       "      <td>3.040600e+04</td>\n",
       "      <td>30406</td>\n",
       "      <td>30406</td>\n",
       "      <td>30406</td>\n",
       "    </tr>\n",
       "    <tr>\n",
       "      <th>unique</th>\n",
       "      <td>27148</td>\n",
       "      <td>1306</td>\n",
       "      <td>4198</td>\n",
       "      <td>NaN</td>\n",
       "      <td>5</td>\n",
       "      <td>NaN</td>\n",
       "      <td>NaN</td>\n",
       "      <td>66</td>\n",
       "      <td>2027</td>\n",
       "      <td>42</td>\n",
       "    </tr>\n",
       "    <tr>\n",
       "      <th>top</th>\n",
       "      <td>PT. TRANS ARMADA INDONESIA</td>\n",
       "      <td>HONDA CIKARANG</td>\n",
       "      <td>HONDA, ALL NEW BRIO E CVT, 2023</td>\n",
       "      <td>NaN</td>\n",
       "      <td>Operational</td>\n",
       "      <td>NaN</td>\n",
       "      <td>NaN</td>\n",
       "      <td>HONDA</td>\n",
       "      <td>ALL NEW BRIO E CVT</td>\n",
       "      <td>2023</td>\n",
       "    </tr>\n",
       "    <tr>\n",
       "      <th>freq</th>\n",
       "      <td>46</td>\n",
       "      <td>1288</td>\n",
       "      <td>1227</td>\n",
       "      <td>NaN</td>\n",
       "      <td>27132</td>\n",
       "      <td>NaN</td>\n",
       "      <td>NaN</td>\n",
       "      <td>23973</td>\n",
       "      <td>3337</td>\n",
       "      <td>8305</td>\n",
       "    </tr>\n",
       "    <tr>\n",
       "      <th>mean</th>\n",
       "      <td>NaN</td>\n",
       "      <td>NaN</td>\n",
       "      <td>NaN</td>\n",
       "      <td>2024-07-07 01:22:25.140388864</td>\n",
       "      <td>NaN</td>\n",
       "      <td>6.011833e+06</td>\n",
       "      <td>2.772882e+08</td>\n",
       "      <td>NaN</td>\n",
       "      <td>NaN</td>\n",
       "      <td>NaN</td>\n",
       "    </tr>\n",
       "    <tr>\n",
       "      <th>min</th>\n",
       "      <td>NaN</td>\n",
       "      <td>NaN</td>\n",
       "      <td>NaN</td>\n",
       "      <td>2011-12-05 00:00:00</td>\n",
       "      <td>NaN</td>\n",
       "      <td>3.200000e+05</td>\n",
       "      <td>1.127273e+07</td>\n",
       "      <td>NaN</td>\n",
       "      <td>NaN</td>\n",
       "      <td>NaN</td>\n",
       "    </tr>\n",
       "    <tr>\n",
       "      <th>25%</th>\n",
       "      <td>NaN</td>\n",
       "      <td>NaN</td>\n",
       "      <td>NaN</td>\n",
       "      <td>2024-10-25 00:00:00</td>\n",
       "      <td>NaN</td>\n",
       "      <td>3.517000e+06</td>\n",
       "      <td>1.880000e+08</td>\n",
       "      <td>NaN</td>\n",
       "      <td>NaN</td>\n",
       "      <td>NaN</td>\n",
       "    </tr>\n",
       "    <tr>\n",
       "      <th>50%</th>\n",
       "      <td>NaN</td>\n",
       "      <td>NaN</td>\n",
       "      <td>NaN</td>\n",
       "      <td>2024-10-27 00:00:00</td>\n",
       "      <td>NaN</td>\n",
       "      <td>4.355000e+06</td>\n",
       "      <td>2.252000e+08</td>\n",
       "      <td>NaN</td>\n",
       "      <td>NaN</td>\n",
       "      <td>NaN</td>\n",
       "    </tr>\n",
       "    <tr>\n",
       "      <th>75%</th>\n",
       "      <td>NaN</td>\n",
       "      <td>NaN</td>\n",
       "      <td>NaN</td>\n",
       "      <td>2024-11-15 00:00:00</td>\n",
       "      <td>NaN</td>\n",
       "      <td>6.161000e+06</td>\n",
       "      <td>3.276000e+08</td>\n",
       "      <td>NaN</td>\n",
       "      <td>NaN</td>\n",
       "      <td>NaN</td>\n",
       "    </tr>\n",
       "    <tr>\n",
       "      <th>max</th>\n",
       "      <td>NaN</td>\n",
       "      <td>NaN</td>\n",
       "      <td>NaN</td>\n",
       "      <td>2024-11-27 00:00:00</td>\n",
       "      <td>NaN</td>\n",
       "      <td>7.826819e+08</td>\n",
       "      <td>1.750000e+10</td>\n",
       "      <td>NaN</td>\n",
       "      <td>NaN</td>\n",
       "      <td>NaN</td>\n",
       "    </tr>\n",
       "    <tr>\n",
       "      <th>std</th>\n",
       "      <td>NaN</td>\n",
       "      <td>NaN</td>\n",
       "      <td>NaN</td>\n",
       "      <td>NaN</td>\n",
       "      <td>NaN</td>\n",
       "      <td>1.246535e+07</td>\n",
       "      <td>2.404586e+08</td>\n",
       "      <td>NaN</td>\n",
       "      <td>NaN</td>\n",
       "      <td>NaN</td>\n",
       "    </tr>\n",
       "  </tbody>\n",
       "</table>\n",
       "</div>"
      ],
      "text/plain": [
       "                     customer_name     dealer_name  \\\n",
       "count                        30406           30406   \n",
       "unique                       27148            1306   \n",
       "top     PT. TRANS ARMADA INDONESIA  HONDA CIKARANG   \n",
       "freq                            46            1288   \n",
       "mean                           NaN             NaN   \n",
       "min                            NaN             NaN   \n",
       "25%                            NaN             NaN   \n",
       "50%                            NaN             NaN   \n",
       "75%                            NaN             NaN   \n",
       "max                            NaN             NaN   \n",
       "std                            NaN             NaN   \n",
       "\n",
       "                       unit_description                       due_date  \\\n",
       "count                             30406                          28706   \n",
       "unique                             4198                            NaN   \n",
       "top     HONDA, ALL NEW BRIO E CVT, 2023                            NaN   \n",
       "freq                               1227                            NaN   \n",
       "mean                                NaN  2024-07-07 01:22:25.140388864   \n",
       "min                                 NaN            2011-12-05 00:00:00   \n",
       "25%                                 NaN            2024-10-25 00:00:00   \n",
       "50%                                 NaN            2024-10-27 00:00:00   \n",
       "75%                                 NaN            2024-11-15 00:00:00   \n",
       "max                                 NaN            2024-11-27 00:00:00   \n",
       "std                                 NaN                            NaN   \n",
       "\n",
       "             status   installment    cost_price brand_name  \\\n",
       "count         30406  3.040600e+04  3.040600e+04      30406   \n",
       "unique            5           NaN           NaN         66   \n",
       "top     Operational           NaN           NaN      HONDA   \n",
       "freq          27132           NaN           NaN      23973   \n",
       "mean            NaN  6.011833e+06  2.772882e+08        NaN   \n",
       "min             NaN  3.200000e+05  1.127273e+07        NaN   \n",
       "25%             NaN  3.517000e+06  1.880000e+08        NaN   \n",
       "50%             NaN  4.355000e+06  2.252000e+08        NaN   \n",
       "75%             NaN  6.161000e+06  3.276000e+08        NaN   \n",
       "max             NaN  7.826819e+08  1.750000e+10        NaN   \n",
       "std             NaN  1.246535e+07  2.404586e+08        NaN   \n",
       "\n",
       "                   type_car year_of_car  \n",
       "count                 30406       30406  \n",
       "unique                 2027          42  \n",
       "top      ALL NEW BRIO E CVT        2023  \n",
       "freq                   3337        8305  \n",
       "mean                    NaN         NaN  \n",
       "min                     NaN         NaN  \n",
       "25%                     NaN         NaN  \n",
       "50%                     NaN         NaN  \n",
       "75%                     NaN         NaN  \n",
       "max                     NaN         NaN  \n",
       "std                     NaN         NaN  "
      ]
     },
     "execution_count": 31,
     "metadata": {},
     "output_type": "execute_result"
    }
   ],
   "source": [
    "# Basic descriptive statistics\n",
    "df.describe(include='all')"
   ]
  },
  {
   "cell_type": "code",
   "execution_count": 32,
   "id": "8c9f9257",
   "metadata": {},
   "outputs": [
    {
     "data": {
      "text/plain": [
       "customer_name          0\n",
       "dealer_name            0\n",
       "unit_description       0\n",
       "due_date            1700\n",
       "status                 0\n",
       "installment            0\n",
       "cost_price             0\n",
       "brand_name             0\n",
       "type_car               0\n",
       "year_of_car            0\n",
       "dtype: int64"
      ]
     },
     "execution_count": 32,
     "metadata": {},
     "output_type": "execute_result"
    }
   ],
   "source": [
    "# Check and handle its missing value (optional, not required by current dataset)\n",
    "df.isnull().sum()"
   ]
  },
  {
   "cell_type": "code",
   "execution_count": 33,
   "id": "076dc871",
   "metadata": {},
   "outputs": [
    {
     "data": {
      "image/png": "[encoded data removed]",
      "text/plain": [
       "<Figure size 640x480 with 1 Axes>"
      ]
     },
     "metadata": {},
     "output_type": "display_data"
    }
   ],
   "source": [
    "# Try to visualize the missing values\n",
    "sns.heatmap(df.isnull(), cbar=False, cmap='viridis')\n",
    "plt.title('Missing Values Heatmap')\n",
    "plt.show()"
   ]
  },
  {
   "cell_type": "markdown",
   "id": "cd8067e9",
   "metadata": {},
   "source": [
    "Usually we should decide what to do during the missingness check, either we just keep it, drop it, or impute it. </br>\n",
    "For the current dataset, I'd chose to let it be since it contains meaningful information."
   ]
  },
  {
   "cell_type": "code",
   "execution_count": 34,
   "id": "af46e7bc",
   "metadata": {},
   "outputs": [
    {
     "data": {
      "text/plain": [
       "0"
      ]
     },
     "execution_count": 34,
     "metadata": {},
     "output_type": "execute_result"
    }
   ],
   "source": [
    "# Check its duplicates as well, check it out once again\n",
    "df.duplicated().sum()\n",
    "\n",
    "# If the dupes exist, usually just drop it using\n",
    "# df.drop_duplicates(inplace=True)"
   ]
  },
  {
   "cell_type": "markdown",
   "id": "81c0a39d",
   "metadata": {},
   "source": [
    "Now let's move to EDA Visualization, usually on univariate."
   ]
  },
  {
   "cell_type": "code",
   "execution_count": 35,
   "id": "d5260051",
   "metadata": {},
   "outputs": [
    {
     "name": "stdout",
     "output_type": "stream",
     "text": [
      "10\n",
      "Below is the numeric column\n",
      "['installment', 'cost_price']\n",
      "A total of 2 columns.\n",
      "--------------------------------------------------------------------------------\n",
      "Below is the string column\n",
      "['customer_name', 'dealer_name', 'unit_description', 'type_car', 'year_of_car']\n",
      "A total of 5 columns.\n",
      "--------------------------------------------------------------------------------\n",
      "Below is the categorical column\n",
      "['status', 'brand_name']\n",
      "A total of 2 columns.\n",
      "--------------------------------------------------------------------------------\n",
      "Below is the date column\n",
      "['due_date']\n",
      "A total of 1 columns.\n",
      "--------------------------------------------------------------------------------\n"
     ]
    }
   ],
   "source": [
    "# Now let's create a separate list of each different dtype from columns\n",
    "\n",
    "print(df.shape[1])\n",
    "print(f\"Below is the numeric column\")\n",
    "num_cols = df.select_dtypes(include='number').columns.tolist()\n",
    "print(num_cols)\n",
    "print(f\"A total of {len(num_cols)} columns.\")\n",
    "print('--------'*10)\n",
    "print(f\"Below is the string column\")\n",
    "str_cols = df.select_dtypes(include='string').columns.tolist()\n",
    "print(str_cols)\n",
    "print(f\"A total of {len(str_cols)} columns.\")\n",
    "print('--------'*10)\n",
    "print(f\"Below is the categorical column\")\n",
    "cat_cols = df.select_dtypes(include='category').columns.tolist()\n",
    "print(cat_cols)\n",
    "print(f\"A total of {len(cat_cols)} columns.\")\n",
    "print('--------'*10)\n",
    "print(f\"Below is the date column\")\n",
    "date_cols = df.select_dtypes(include='datetime').columns.tolist()\n",
    "print(date_cols)\n",
    "print(f\"A total of {len(date_cols)} columns.\")\n",
    "print('--------'*10)"
   ]
  },
  {
   "cell_type": "code",
   "execution_count": 36,
   "id": "28582835",
   "metadata": {},
   "outputs": [
    {
     "data": {
      "image/png": "[encoded data removed]",
      "text/plain": [
       "<Figure size 1200x500 with 2 Axes>"
      ]
     },
     "metadata": {},
     "output_type": "display_data"
    }
   ],
   "source": [
    "# Since the numerical data widely spreads, consider applying transformation like 'log'\n",
    "\n",
    "# Below is the original shape, both are highly skewed\n",
    "plt.figure(figsize=(12, 5))\n",
    "\n",
    "plt.subplot(1, 2, 1)\n",
    "sns.histplot(df['installment'], bins=100, kde=True)\n",
    "plt.title('Histogram of Installment (Original Scale)')\n",
    "plt.xlabel('Installment')\n",
    "plt.ylabel('Count')\n",
    "\n",
    "plt.subplot(1, 2, 2)\n",
    "sns.histplot(df['cost_price'], bins=100, kde=True)\n",
    "plt.title('Histogram of Cost Price (Original Scale)')\n",
    "plt.xlabel('Cost Price')\n",
    "plt.ylabel('Count')\n",
    "\n",
    "plt.tight_layout()\n",
    "plt.show()\n",
    "\n",
    "\n"
   ]
  },
  {
   "cell_type": "code",
   "execution_count": 37,
   "id": "0ed81ae2",
   "metadata": {},
   "outputs": [
    {
     "data": {
      "image/png": "[encoded data removed]",
      "text/plain": [
       "<Figure size 1200x500 with 2 Axes>"
      ]
     },
     "metadata": {},
     "output_type": "display_data"
    }
   ],
   "source": [
    "# After log transformation\n",
    "df['log_installment'] = np.log(df['installment'])\n",
    "df['log_cost_price'] = np.log(df['cost_price'])\n",
    "\n",
    "plt.figure(figsize=(12, 5))\n",
    "\n",
    "plt.subplot(1, 2, 1)\n",
    "sns.histplot(df['log_installment'], bins=50, kde=True)\n",
    "plt.title('Histogram of Log(Installment)')\n",
    "plt.xlabel('Log(Installment)')\n",
    "plt.ylabel('Count')\n",
    "\n",
    "plt.subplot(1, 2, 2)\n",
    "sns.histplot(df['log_cost_price'], bins=50, kde=True)\n",
    "plt.title('Histogram of Log(Cost Price)')\n",
    "plt.xlabel('Log(Cost Price)')\n",
    "plt.ylabel('Count')\n",
    "\n",
    "plt.tight_layout()\n",
    "plt.show()"
   ]
  },
  {
   "cell_type": "code",
   "execution_count": 38,
   "id": "397f44a5",
   "metadata": {},
   "outputs": [
    {
     "name": "stdout",
     "output_type": "stream",
     "text": [
      "       log_installment  log_cost_price\n",
      "count     30406.000000    30406.000000\n",
      "mean         15.397798       19.332633\n",
      "std           0.502459        0.411573\n",
      "min          12.676076       16.237897\n",
      "25%          15.073119       19.051953\n",
      "50%          15.286835       19.232499\n",
      "75%          15.633750       19.607304\n",
      "max          20.478237       23.585467\n"
     ]
    }
   ],
   "source": [
    "# Check the summary stats\n",
    "print(df[['log_installment', 'log_cost_price']].describe())"
   ]
  },
  {
   "cell_type": "markdown",
   "id": "db60de87",
   "metadata": {},
   "source": [
    "Now let's visualize categorical col"
   ]
  },
  {
   "cell_type": "code",
   "execution_count": 39,
   "id": "4e6afae8",
   "metadata": {},
   "outputs": [
    {
     "data": {
      "image/png": "[encoded data removed]",
      "text/plain": [
       "<Figure size 800x500 with 1 Axes>"
      ]
     },
     "metadata": {},
     "output_type": "display_data"
    },
    {
     "data": {
      "image/png": "[encoded data removed]",
      "text/plain": [
       "<Figure size 800x500 with 1 Axes>"
      ]
     },
     "metadata": {},
     "output_type": "display_data"
    }
   ],
   "source": [
    "for col in cat_cols:\n",
    "    plt.figure(figsize=(8, 5))\n",
    "    sns.countplot(data=df, x=col, order=df[col].value_counts().index)\n",
    "    plt.title(f'Count of {col}')\n",
    "    plt.xlabel(col)\n",
    "    plt.ylabel('Count')\n",
    "    plt.xticks(rotation=90, ha='right') \n",
    "    plt.tight_layout()\n",
    "    plt.show()"
   ]
  },
  {
   "cell_type": "markdown",
   "id": "36411805",
   "metadata": {},
   "source": [
    "Above EDA's is usually enough when it comes to brief analysis, a lot of another exploratory phase like checking its correlation, outliers, etc. But those are usually on different use-case, imho above is already enough to understand the dataset."
   ]
  },
  {
   "cell_type": "markdown",
   "id": "f04dfeff",
   "metadata": {},
   "source": [
    "Now let's create the visualization based on : </br>\n",
    "\n",
    "1. Top 10 Most Sold Car Brands\n",
    "2. Top Most Sold Car Models/Types using treemap\n",
    "3. Distribution of Status Type\n",
    "4. Top 10 Most Frequent Customers\n",
    "5. Top 10 Most Frequent Dealers\n"
   ]
  },
  {
   "cell_type": "code",
   "execution_count": 40,
   "id": "a88022fa",
   "metadata": {},
   "outputs": [
    {
     "name": "stdout",
     "output_type": "stream",
     "text": [
      "   Brand Name  Count\n",
      "0       HONDA  23973\n",
      "1      TOYOTA   1856\n",
      "2      WULING   1373\n",
      "3  MITSUBISHI    935\n",
      "4      SUZUKI    527\n",
      "5    DAIHATSU    399\n",
      "6     HYUNDAI    240\n",
      "7      NISSAN    215\n",
      "8       MAZDA    212\n",
      "9       CHERY    116\n"
     ]
    },
    {
     "name": "stderr",
     "output_type": "stream",
     "text": [
      "C:\\Users\\Satria Audria Sakti\\AppData\\Local\\Temp\\ipykernel_18748\\2778310846.py:15: FutureWarning: \n",
      "\n",
      "Passing `palette` without assigning `hue` is deprecated and will be removed in v0.14.0. Assign the `x` variable to `hue` and set `legend=False` for the same effect.\n",
      "\n",
      "  sns.barplot(x='Brand Name', y='Count', data=top_10_brand, palette='viridis', order=brand_order)\n"
     ]
    },
    {
     "data": {
      "image/png": "[encoded data removed]",
      "text/plain": [
       "<Figure size 1000x600 with 1 Axes>"
      ]
     },
     "metadata": {},
     "output_type": "display_data"
    }
   ],
   "source": [
    "# 1 . Top 10 Most Sold Car Brands\n",
    "\n",
    "top_10_brand = df['brand_name'].value_counts()\n",
    "top_10_brand = top_10_brand.head(10)\n",
    "# Reset the index for clarity\n",
    "top_10_brand = top_10_brand.reset_index()\n",
    "top_10_brand.columns = ['Brand Name', 'Count']\n",
    "# Sort by desc\n",
    "top_10_brand = top_10_brand.sort_values(by='Count', ascending=False)\n",
    "print(top_10_brand)\n",
    "\n",
    "# Now let's visualize it\n",
    "brand_order = top_10_brand['Brand Name'].tolist()\n",
    "plt.figure(figsize=(10, 6))\n",
    "sns.barplot(x='Brand Name', y='Count', data=top_10_brand, palette='viridis', order=brand_order)\n",
    "plt.title('Top 10 Most Sold Car Brands')\n",
    "plt.xlabel('Brand')\n",
    "plt.ylabel('Number of Sold')\n",
    "plt.xticks(rotation=45, ha='right')\n",
    "plt.tight_layout()\n",
    "plt.show()"
   ]
  },
  {
   "cell_type": "markdown",
   "id": "2ee14c79",
   "metadata": {},
   "source": [
    "Honda takes the top seat as the most sold car brand!"
   ]
  },
  {
   "cell_type": "code",
   "execution_count": 41,
   "id": "d9946fc8",
   "metadata": {},
   "outputs": [
    {
     "name": "stderr",
     "output_type": "stream",
     "text": [
      "C:\\Users\\Satria Audria Sakti\\AppData\\Local\\Temp\\ipykernel_18748\\1919364779.py:6: FutureWarning: The default of observed=False is deprecated and will be changed to True in a future version of pandas. Pass observed=False to retain current behavior or observed=True to adopt the future default and silence this warning.\n",
      "  sales_counts = df.groupby(['brand_name', 'type_car']).size().reset_index(name='unit_sold')\n"
     ]
    },
    {
     "name": "stdout",
     "output_type": "stream",
     "text": [
      "       brand_name                    type_car  unit_sold\n",
      "46715       HONDA          ALL NEW BRIO E CVT       3337\n",
      "47044       HONDA            BRIO SATYA E CVT       2329\n",
      "46716       HONDA           ALL NEW BRIO E MT       1994\n",
      "47045       HONDA             BRIO SATYA E MT       1507\n",
      "46717       HONDA         ALL NEW BRIO RS CVT        724\n",
      "...           ...                         ...        ...\n",
      "44484    GUANG LI        Vehicle Lift 2500 Kg          0\n",
      "44483    GUANG LI   VW NEW BEETLE 2.0 AT 2010          0\n",
      "44482    GUANG LI                 VW GOLF 1.4          0\n",
      "44481    GUANG LI                      VRV IV          0\n",
      "133781     WULING           ZS MCE LUX 4x2 AT          0\n",
      "\n",
      "[133782 rows x 3 columns]\n"
     ]
    },
    {
     "data": {
      "application/vnd.plotly.v1+json": {
       "config": {
        "plotlyServerURL": "https://plot.ly"
       },
       "data": [
        {
         "branchvalues": "total",
         "domain": {
          "x": [
           0,
           1
          ],
          "y": [
           0,
           1
          ]
         },
         "hovertemplate": "labels=%{label}<br>Number of Unit Sold=%{value}<br>parent=%{parent}<br>id=%{id}<extra></extra>",
         "ids": [
          "HONDA/ ALL NEW BRIO E CVT",
          "HONDA/ BRIO SATYA E CVT",
          "HONDA/ ALL NEW BRIO E MT",
          "HONDA/ BRIO SATYA E MT",
          "HONDA/ ALL NEW BRIO RS CVT",
          "HONDA/ ALL NEW HR-V 1.5L SE CVT",
          "HONDA/ BRIO RS CVT ",
          "HONDA/ BRIO SATYA 1.2 E CVT",
          "HONDA/ Mobilio S MT",
          "HONDA/ ALL NEW WR-V 1.5 RS CVT",
          "HONDA/ ALL NEW BRIO S MT",
          "HONDA/ ALL NEW BRV 1.5L PRESTIGE HS CVT",
          "HONDA/ BRIO SATYA 1.2 E CVT CKD",
          "HONDA/ Mobilio E MT",
          "HONDA/ Mobilio E CVT",
          "HONDA"
         ],
         "labels": [
          " ALL NEW BRIO E CVT",
          " BRIO SATYA E CVT",
          " ALL NEW BRIO E MT",
          " BRIO SATYA E MT",
          " ALL NEW BRIO RS CVT",
          " ALL NEW HR-V 1.5L SE CVT",
          " BRIO RS CVT ",
          " BRIO SATYA 1.2 E CVT",
          " Mobilio S MT",
          " ALL NEW WR-V 1.5 RS CVT",
          " ALL NEW BRIO S MT",
          " ALL NEW BRV 1.5L PRESTIGE HS CVT",
          " BRIO SATYA 1.2 E CVT CKD",
          " Mobilio E MT",
          " Mobilio E CVT",
          "HONDA"
         ],
         "name": "",
         "parents": [
          "HONDA",
          "HONDA",
          "HONDA",
          "HONDA",
          "HONDA",
          "HONDA",
          "HONDA",
          "HONDA",
          "HONDA",
          "HONDA",
          "HONDA",
          "HONDA",
          "HONDA",
          "HONDA",
          "HONDA",
          ""
         ],
         "type": "treemap",
         "values": {
          "bdata": "AAAAAAASqkAAAAAAADKiQAAAAAAAKJ9AAAAAAACMl0AAAAAAAKCGQAAAAAAAaIZAAAAAAACwgkAAAAAAAPB5QAAAAAAA0HhAAAAAAAAQeEAAAAAAAHB3QAAAAAAAUHdAAAAAAACgdEAAAAAAAMBzQAAAAAAAYHJAAAAAAICFy0A=",
          "dtype": "f8"
         }
        }
       ],
       "layout": {
        "legend": {
         "tracegroupgap": 0
        },
        "template": {
         "data": {
          "bar": [
           {
            "error_x": {
             "color": "#2a3f5f"
            },
            "error_y": {
             "color": "#2a3f5f"
            },
            "marker": {
             "line": {
              "color": "#E5ECF6",
              "width": 0.5
             },
             "pattern": {
              "fillmode": "overlay",
              "size": 10,
              "solidity": 0.2
             }
            },
            "type": "bar"
           }
          ],
          "barpolar": [
           {
            "marker": {
             "line": {
              "color": "#E5ECF6",
              "width": 0.5
             },
             "pattern": {
              "fillmode": "overlay",
              "size": 10,
              "solidity": 0.2
             }
            },
            "type": "barpolar"
           }
          ],
          "carpet": [
           {
            "aaxis": {
             "endlinecolor": "#2a3f5f",
             "gridcolor": "white",
             "linecolor": "white",
             "minorgridcolor": "white",
             "startlinecolor": "#2a3f5f"
            },
            "baxis": {
             "endlinecolor": "#2a3f5f",
             "gridcolor": "white",
             "linecolor": "white",
             "minorgridcolor": "white",
             "startlinecolor": "#2a3f5f"
            },
            "type": "carpet"
           }
          ],
          "choropleth": [
           {
            "colorbar": {
             "outlinewidth": 0,
             "ticks": ""
            },
            "type": "choropleth"
           }
          ],
          "contour": [
           {
            "colorbar": {
             "outlinewidth": 0,
             "ticks": ""
            },
            "colorscale": [
             [
              0,
              "#0d0887"
             ],
             [
              0.1111111111111111,
              "#46039f"
             ],
             [
              0.2222222222222222,
              "#7201a8"
             ],
             [
              0.3333333333333333,
              "#9c179e"
             ],
             [
              0.4444444444444444,
              "#bd3786"
             ],
             [
              0.5555555555555556,
              "#d8576b"
             ],
             [
              0.6666666666666666,
              "#ed7953"
             ],
             [
              0.7777777777777778,
              "#fb9f3a"
             ],
             [
              0.8888888888888888,
              "#fdca26"
             ],
             [
              1,
              "#f0f921"
             ]
            ],
            "type": "contour"
           }
          ],
          "contourcarpet": [
           {
            "colorbar": {
             "outlinewidth": 0,
             "ticks": ""
            },
            "type": "contourcarpet"
           }
          ],
          "heatmap": [
           {
            "colorbar": {
             "outlinewidth": 0,
             "ticks": ""
            },
            "colorscale": [
             [
              0,
              "#0d0887"
             ],
             [
              0.1111111111111111,
              "#46039f"
             ],
             [
              0.2222222222222222,
              "#7201a8"
             ],
             [
              0.3333333333333333,
              "#9c179e"
             ],
             [
              0.4444444444444444,
              "#bd3786"
             ],
             [
              0.5555555555555556,
              "#d8576b"
             ],
             [
              0.6666666666666666,
              "#ed7953"
             ],
             [
              0.7777777777777778,
              "#fb9f3a"
             ],
             [
              0.8888888888888888,
              "#fdca26"
             ],
             [
              1,
              "#f0f921"
             ]
            ],
            "type": "heatmap"
           }
          ],
          "histogram": [
           {
            "marker": {
             "pattern": {
              "fillmode": "overlay",
              "size": 10,
              "solidity": 0.2
             }
            },
            "type": "histogram"
           }
          ],
          "histogram2d": [
           {
            "colorbar": {
             "outlinewidth": 0,
             "ticks": ""
            },
            "colorscale": [
             [
              0,
              "#0d0887"
             ],
             [
              0.1111111111111111,
              "#46039f"
             ],
             [
              0.2222222222222222,
              "#7201a8"
             ],
             [
              0.3333333333333333,
              "#9c179e"
             ],
             [
              0.4444444444444444,
              "#bd3786"
             ],
             [
              0.5555555555555556,
              "#d8576b"
             ],
             [
              0.6666666666666666,
              "#ed7953"
             ],
             [
              0.7777777777777778,
              "#fb9f3a"
             ],
             [
              0.8888888888888888,
              "#fdca26"
             ],
             [
              1,
              "#f0f921"
             ]
            ],
            "type": "histogram2d"
           }
          ],
          "histogram2dcontour": [
           {
            "colorbar": {
             "outlinewidth": 0,
             "ticks": ""
            },
            "colorscale": [
             [
              0,
              "#0d0887"
             ],
             [
              0.1111111111111111,
              "#46039f"
             ],
             [
              0.2222222222222222,
              "#7201a8"
             ],
             [
              0.3333333333333333,
              "#9c179e"
             ],
             [
              0.4444444444444444,
              "#bd3786"
             ],
             [
              0.5555555555555556,
              "#d8576b"
             ],
             [
              0.6666666666666666,
              "#ed7953"
             ],
             [
              0.7777777777777778,
              "#fb9f3a"
             ],
             [
              0.8888888888888888,
              "#fdca26"
             ],
             [
              1,
              "#f0f921"
             ]
            ],
            "type": "histogram2dcontour"
           }
          ],
          "mesh3d": [
           {
            "colorbar": {
             "outlinewidth": 0,
             "ticks": ""
            },
            "type": "mesh3d"
           }
          ],
          "parcoords": [
           {
            "line": {
             "colorbar": {
              "outlinewidth": 0,
              "ticks": ""
             }
            },
            "type": "parcoords"
           }
          ],
          "pie": [
           {
            "automargin": true,
            "type": "pie"
           }
          ],
          "scatter": [
           {
            "fillpattern": {
             "fillmode": "overlay",
             "size": 10,
             "solidity": 0.2
            },
            "type": "scatter"
           }
          ],
          "scatter3d": [
           {
            "line": {
             "colorbar": {
              "outlinewidth": 0,
              "ticks": ""
             }
            },
            "marker": {
             "colorbar": {
              "outlinewidth": 0,
              "ticks": ""
             }
            },
            "type": "scatter3d"
           }
          ],
          "scattercarpet": [
           {
            "marker": {
             "colorbar": {
              "outlinewidth": 0,
              "ticks": ""
             }
            },
            "type": "scattercarpet"
           }
          ],
          "scattergeo": [
           {
            "marker": {
             "colorbar": {
              "outlinewidth": 0,
              "ticks": ""
             }
            },
            "type": "scattergeo"
           }
          ],
          "scattergl": [
           {
            "marker": {
             "colorbar": {
              "outlinewidth": 0,
              "ticks": ""
             }
            },
            "type": "scattergl"
           }
          ],
          "scattermap": [
           {
            "marker": {
             "colorbar": {
              "outlinewidth": 0,
              "ticks": ""
             }
            },
            "type": "scattermap"
           }
          ],
          "scattermapbox": [
           {
            "marker": {
             "colorbar": {
              "outlinewidth": 0,
              "ticks": ""
             }
            },
            "type": "scattermapbox"
           }
          ],
          "scatterpolar": [
           {
            "marker": {
             "colorbar": {
              "outlinewidth": 0,
              "ticks": ""
             }
            },
            "type": "scatterpolar"
           }
          ],
          "scatterpolargl": [
           {
            "marker": {
             "colorbar": {
              "outlinewidth": 0,
              "ticks": ""
             }
            },
            "type": "scatterpolargl"
           }
          ],
          "scatterternary": [
           {
            "marker": {
             "colorbar": {
              "outlinewidth": 0,
              "ticks": ""
             }
            },
            "type": "scatterternary"
           }
          ],
          "surface": [
           {
            "colorbar": {
             "outlinewidth": 0,
             "ticks": ""
            },
            "colorscale": [
             [
              0,
              "#0d0887"
             ],
             [
              0.1111111111111111,
              "#46039f"
             ],
             [
              0.2222222222222222,
              "#7201a8"
             ],
             [
              0.3333333333333333,
              "#9c179e"
             ],
             [
              0.4444444444444444,
              "#bd3786"
             ],
             [
              0.5555555555555556,
              "#d8576b"
             ],
             [
              0.6666666666666666,
              "#ed7953"
             ],
             [
              0.7777777777777778,
              "#fb9f3a"
             ],
             [
              0.8888888888888888,
              "#fdca26"
             ],
             [
              1,
              "#f0f921"
             ]
            ],
            "type": "surface"
           }
          ],
          "table": [
           {
            "cells": {
             "fill": {
              "color": "#EBF0F8"
             },
             "line": {
              "color": "white"
             }
            },
            "header": {
             "fill": {
              "color": "#C8D4E3"
             },
             "line": {
              "color": "white"
             }
            },
            "type": "table"
           }
          ]
         },
         "layout": {
          "annotationdefaults": {
           "arrowcolor": "#2a3f5f",
           "arrowhead": 0,
           "arrowwidth": 1
          },
          "autotypenumbers": "strict",
          "coloraxis": {
           "colorbar": {
            "outlinewidth": 0,
            "ticks": ""
           }
          },
          "colorscale": {
           "diverging": [
            [
             0,
             "#8e0152"
            ],
            [
             0.1,
             "#c51b7d"
            ],
            [
             0.2,
             "#de77ae"
            ],
            [
             0.3,
             "#f1b6da"
            ],
            [
             0.4,
             "#fde0ef"
            ],
            [
             0.5,
             "#f7f7f7"
            ],
            [
             0.6,
             "#e6f5d0"
            ],
            [
             0.7,
             "#b8e186"
            ],
            [
             0.8,
             "#7fbc41"
            ],
            [
             0.9,
             "#4d9221"
            ],
            [
             1,
             "#276419"
            ]
           ],
           "sequential": [
            [
             0,
             "#0d0887"
            ],
            [
             0.1111111111111111,
             "#46039f"
            ],
            [
             0.2222222222222222,
             "#7201a8"
            ],
            [
             0.3333333333333333,
             "#9c179e"
            ],
            [
             0.4444444444444444,
             "#bd3786"
            ],
            [
             0.5555555555555556,
             "#d8576b"
            ],
            [
             0.6666666666666666,
             "#ed7953"
            ],
            [
             0.7777777777777778,
             "#fb9f3a"
            ],
            [
             0.8888888888888888,
             "#fdca26"
            ],
            [
             1,
             "#f0f921"
            ]
           ],
           "sequentialminus": [
            [
             0,
             "#0d0887"
            ],
            [
             0.1111111111111111,
             "#46039f"
            ],
            [
             0.2222222222222222,
             "#7201a8"
            ],
            [
             0.3333333333333333,
             "#9c179e"
            ],
            [
             0.4444444444444444,
             "#bd3786"
            ],
            [
             0.5555555555555556,
             "#d8576b"
            ],
            [
             0.6666666666666666,
             "#ed7953"
            ],
            [
             0.7777777777777778,
             "#fb9f3a"
            ],
            [
             0.8888888888888888,
             "#fdca26"
            ],
            [
             1,
             "#f0f921"
            ]
           ]
          },
          "colorway": [
           "#636efa",
           "#EF553B",
           "#00cc96",
           "#ab63fa",
           "#FFA15A",
           "#19d3f3",
           "#FF6692",
           "#B6E880",
           "#FF97FF",
           "#FECB52"
          ],
          "font": {
           "color": "#2a3f5f"
          },
          "geo": {
           "bgcolor": "white",
           "lakecolor": "white",
           "landcolor": "#E5ECF6",
           "showlakes": true,
           "showland": true,
           "subunitcolor": "white"
          },
          "hoverlabel": {
           "align": "left"
          },
          "hovermode": "closest",
          "mapbox": {
           "style": "light"
          },
          "paper_bgcolor": "white",
          "plot_bgcolor": "#E5ECF6",
          "polar": {
           "angularaxis": {
            "gridcolor": "white",
            "linecolor": "white",
            "ticks": ""
           },
           "bgcolor": "#E5ECF6",
           "radialaxis": {
            "gridcolor": "white",
            "linecolor": "white",
            "ticks": ""
           }
          },
          "scene": {
           "xaxis": {
            "backgroundcolor": "#E5ECF6",
            "gridcolor": "white",
            "gridwidth": 2,
            "linecolor": "white",
            "showbackground": true,
            "ticks": "",
            "zerolinecolor": "white"
           },
           "yaxis": {
            "backgroundcolor": "#E5ECF6",
            "gridcolor": "white",
            "gridwidth": 2,
            "linecolor": "white",
            "showbackground": true,
            "ticks": "",
            "zerolinecolor": "white"
           },
           "zaxis": {
            "backgroundcolor": "#E5ECF6",
            "gridcolor": "white",
            "gridwidth": 2,
            "linecolor": "white",
            "showbackground": true,
            "ticks": "",
            "zerolinecolor": "white"
           }
          },
          "shapedefaults": {
           "line": {
            "color": "#2a3f5f"
           }
          },
          "ternary": {
           "aaxis": {
            "gridcolor": "white",
            "linecolor": "white",
            "ticks": ""
           },
           "baxis": {
            "gridcolor": "white",
            "linecolor": "white",
            "ticks": ""
           },
           "bgcolor": "#E5ECF6",
           "caxis": {
            "gridcolor": "white",
            "linecolor": "white",
            "ticks": ""
           }
          },
          "title": {
           "x": 0.05
          },
          "xaxis": {
           "automargin": true,
           "gridcolor": "white",
           "linecolor": "white",
           "ticks": "",
           "title": {
            "standoff": 15
           },
           "zerolinecolor": "white",
           "zerolinewidth": 2
          },
          "yaxis": {
           "automargin": true,
           "gridcolor": "white",
           "linecolor": "white",
           "ticks": "",
           "title": {
            "standoff": 15
           },
           "zerolinecolor": "white",
           "zerolinewidth": 2
          }
         }
        },
        "title": {
         "text": "Top Most Sold Car Models/Types"
        }
       }
      }
     },
     "metadata": {},
     "output_type": "display_data"
    }
   ],
   "source": [
    "# 2. Top Most Sold Car Models/Types using treemap\n",
    "\n",
    "# Use plotly.express library\n",
    "import plotly.express as px\n",
    "\n",
    "sales_counts = df.groupby(['brand_name', 'type_car']).size().reset_index(name='unit_sold')\n",
    "sales_counts = sales_counts.sort_values(by='unit_sold', ascending=False)\n",
    "print(sales_counts)\n",
    "\n",
    "# Now let's create the treemap\n",
    "# Check the top 15\n",
    "top_unit_sold = sales_counts.head(15)\n",
    "fig = px.treemap(top_unit_sold,\n",
    "                 path=['brand_name', 'type_car'],  # Defines the hierarchy\n",
    "                 values='unit_sold',          # Defines the size of the rectangles\n",
    "                 title='Top Most Sold Car Models/Types',\n",
    "                 labels={'unit_sold': 'Number of Unit Sold'}) \n",
    "# Display the treemap\n",
    "fig.show()\n"
   ]
  },
  {
   "cell_type": "markdown",
   "id": "e6ed62e7",
   "metadata": {},
   "source": [
    "Once again, Honda seems to dominate the seat as the top sold unit even it's in a Treemap!"
   ]
  },
  {
   "cell_type": "code",
   "execution_count": 48,
   "id": "4e8a145a",
   "metadata": {},
   "outputs": [
    {
     "name": "stderr",
     "output_type": "stream",
     "text": [
      "C:\\Users\\Satria Audria Sakti\\AppData\\Local\\Temp\\ipykernel_18748\\3359793756.py:11: FutureWarning:\n",
      "\n",
      "\n",
      "\n",
      "Passing `palette` without assigning `hue` is deprecated and will be removed in v0.14.0. Assign the `y` variable to `hue` and set `legend=False` for the same effect.\n",
      "\n",
      "\n"
     ]
    },
    {
     "data": {
      "image/png": "[encoded data removed]",
      "text/plain": [
       "<Figure size 1000x600 with 1 Axes>"
      ]
     },
     "metadata": {},
     "output_type": "display_data"
    }
   ],
   "source": [
    "# 3. Distribution of status type\n",
    "\n",
    "status_col = df['status'].value_counts()\n",
    "status_col = status_col.reset_index()\n",
    "status_col.columns = ['Status', 'Count']\n",
    "\n",
    "# Now let's visualize it\n",
    "status_col = status_col.sort_values(by='Count', ascending=False)\n",
    "status_order = status_col['Status'].tolist()\n",
    "plt.figure(figsize=(10, 6))\n",
    "sns.barplot(x='Count', y='Status', data=status_col, palette='viridis', order=status_order)\n",
    "plt.title('Distribution of Status type')\n",
    "plt.xlabel('Count')\n",
    "plt.ylabel('Status')\n",
    "plt.tight_layout()\n",
    "plt.show()\n"
   ]
  },
  {
   "cell_type": "markdown",
   "id": "c511b98a",
   "metadata": {},
   "source": [
    "Most of the status type is still 'Operational'"
   ]
  },
  {
   "cell_type": "code",
   "execution_count": 53,
   "id": "daec1d1b",
   "metadata": {},
   "outputs": [
    {
     "name": "stdout",
     "output_type": "stream",
     "text": [
      "                Customer Name  Count\n",
      "0  PT. TRANS ARMADA INDONESIA     46\n",
      "1             PT. IMORA MOTOR     27\n",
      "2                     MULYADI     22\n",
      "3                 SRI WAHYUNI     21\n",
      "4                      HENDRA     21\n",
      "5         PT. ARTA BUMI MOTOR     18\n",
      "6       PT. UMARA NIKMAT BOGA     15\n",
      "7        PT. DUA RAJA BALOHAN     15\n",
      "8                   NURHAYATI     15\n",
      "9                     HERLINA     14\n"
     ]
    },
    {
     "name": "stderr",
     "output_type": "stream",
     "text": [
      "C:\\Users\\Satria Audria Sakti\\AppData\\Local\\Temp\\ipykernel_18748\\586987881.py:15: FutureWarning:\n",
      "\n",
      "\n",
      "\n",
      "Passing `palette` without assigning `hue` is deprecated and will be removed in v0.14.0. Assign the `y` variable to `hue` and set `legend=False` for the same effect.\n",
      "\n",
      "\n"
     ]
    },
    {
     "data": {
      "image/png": "[encoded data removed]",
      "text/plain": [
       "<Figure size 1000x600 with 1 Axes>"
      ]
     },
     "metadata": {},
     "output_type": "display_data"
    }
   ],
   "source": [
    "# 4. Top 10 Most Frequent Customers\n",
    "\n",
    "top_10_cust = df['customer_name'].value_counts()\n",
    "top_10_cust= top_10_cust.head(10)\n",
    "# Reset the index for clarity\n",
    "top_10_cust = top_10_cust.reset_index()\n",
    "top_10_cust.columns = ['Customer Name', 'Count']\n",
    "# Sort by desc\n",
    "top_10_cust = top_10_cust.sort_values(by='Count', ascending=False)\n",
    "print(top_10_cust)\n",
    "\n",
    "# Now let's visualize it\n",
    "cust_order = top_10_cust['Customer Name'].tolist()\n",
    "plt.figure(figsize=(10, 6))\n",
    "sns.barplot(x='Count', y='Customer Name', data=top_10_cust, palette='viridis', order=cust_order)\n",
    "plt.title('Top 10 Most Frequent Customers')\n",
    "plt.xlabel('Count')\n",
    "plt.ylabel('Customer Name')\n",
    "plt.tight_layout()\n",
    "plt.show()"
   ]
  },
  {
   "cell_type": "markdown",
   "id": "29e36551",
   "metadata": {},
   "source": [
    "PT. TRANS ARMADA INDONESIA take the top seat for the most frequent customer!"
   ]
  },
  {
   "cell_type": "code",
   "execution_count": 54,
   "id": "6f82f92c",
   "metadata": {},
   "outputs": [
    {
     "name": "stdout",
     "output_type": "stream",
     "text": [
      "                   Dealer Name  Count\n",
      "0               HONDA CIKARANG   1288\n",
      "1           HONDA WILTOP JAMBI   1094\n",
      "2                 HONDA NAGOYA    655\n",
      "3        HONDA SURABAYA CENTER    594\n",
      "4      HONDA AMARTHA SAMARINDA    592\n",
      "5         HONDA JAKARTA CENTER    568\n",
      "6       HONDA ARISTA PEKANBARU    489\n",
      "7  HONDA ANUGERAH KASIH PUTERA    472\n",
      "8                HONDA CIBUBUR    470\n",
      "9         HONDA MAKASSAR INDAH    424\n"
     ]
    },
    {
     "name": "stderr",
     "output_type": "stream",
     "text": [
      "C:\\Users\\Satria Audria Sakti\\AppData\\Local\\Temp\\ipykernel_18748\\966904442.py:15: FutureWarning:\n",
      "\n",
      "\n",
      "\n",
      "Passing `palette` without assigning `hue` is deprecated and will be removed in v0.14.0. Assign the `y` variable to `hue` and set `legend=False` for the same effect.\n",
      "\n",
      "\n"
     ]
    },
    {
     "data": {
      "image/png": "[encoded data removed]",
      "text/plain": [
       "<Figure size 1000x600 with 1 Axes>"
      ]
     },
     "metadata": {},
     "output_type": "display_data"
    }
   ],
   "source": [
    "# 5. Top 10 Most Frequent Dealers\n",
    "\n",
    "top_10_dealer = df['dealer_name'].value_counts()\n",
    "top_10_dealer = top_10_dealer.head(10)\n",
    "# Reset the index for clarity\n",
    "top_10_dealer = top_10_dealer.reset_index()\n",
    "top_10_dealer.columns = ['Dealer Name', 'Count']\n",
    "# Sort by desc\n",
    "top_10_dealer = top_10_dealer.sort_values(by='Count', ascending=False)\n",
    "print(top_10_dealer)\n",
    "\n",
    "# Now let's visualize it\n",
    "dealer_order = top_10_dealer['Dealer Name'].tolist()\n",
    "plt.figure(figsize=(10, 6))\n",
    "sns.barplot(x='Count', y='Dealer Name', data=top_10_dealer, palette='viridis', order=dealer_order)\n",
    "plt.title('Top 10 Most Frequent Dealers')\n",
    "plt.xlabel('Count')\n",
    "plt.ylabel('Customer Name')\n",
    "plt.tight_layout()\n",
    "plt.show()"
   ]
  },
  {
   "cell_type": "markdown",
   "id": "d62e6202",
   "metadata": {},
   "source": [
    "HONDA CIKARANG takes the seat for the most frequent dealer!"
   ]
  },
  {
   "cell_type": "markdown",
   "id": "67c2bb59",
   "metadata": {},
   "source": [
    "### Now let's just proceed through the SQL Assessment, here I'll use docker container as MySQL Server and Dbeaver as its DBMS."
   ]
  }
 ],
 "metadata": {
  "kernelspec": {
   "display_name": "Python 3",
   "language": "python",
   "name": "python3"
  },
  "language_info": {
   "codemirror_mode": {
    "name": "ipython",
    "version": 3
   },
   "file_extension": ".py",
   "mimetype": "text/x-python",
   "name": "python",
   "nbconvert_exporter": "python",
   "pygments_lexer": "ipython3",
   "version": "3.11.9"
  }
 },
 "nbformat": 4,
 "nbformat_minor": 5
}
